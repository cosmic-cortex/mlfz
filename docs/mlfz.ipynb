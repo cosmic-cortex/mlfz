{
 "cells": [
  {
   "cell_type": "markdown",
   "metadata": {},
   "source": [
    "# Machine Learning From Zero\n",
    "\n",
    "*An educational machine learning library.*"
   ]
  },
  {
   "cell_type": "markdown",
   "metadata": {},
   "source": [
    "Hi there! `mlfz` is my attempt to provide reference implementations of machine learning algorithms for educational purposes. The goal is not performance, but simplicity: you won't just use this library; you'll dig through the source code to understand how machine learning works on the inside.\n",
    "\n",
    "**This documentation works more like an interactive textbook instead of a feature reference.** You can run it interactively via Binder.\n",
    "\n",
    "```{image} /assets/launch-button.png\n",
    "---\n",
    ":alt: Binder and Thebe launch buttons\n",
    ":align: center\n",
    "---\n",
    "This is where you can find the launch button. (At least, on a desktop machine.)\n",
    "```\n",
    "\n",
    "If you find value in this project, support me by grabbing a copy of my [Mathematics of Machine Learning](https://tivadardanka.com/books/mathematics-of-machine-learning) book!"
   ]
  },
  {
   "cell_type": "markdown",
   "metadata": {},
   "source": [
    "## Quickstart\n",
    "\n",
    "You can install the package directly from pip:\n",
    "\n",
    "```\n",
    "pip install mlfz\n",
    "```\n",
    "\n",
    "However, I encourage you to clone the repository and install via\n",
    "```\n",
    "pip install -e .\n",
    "```\n",
    "from the directory. This way, any local change is reflected immediately, so you can play around with the code in, say, a Jupyter Notebook."
   ]
  },
  {
   "cell_type": "markdown",
   "metadata": {},
   "source": [
    "## Contributions\n",
    "\n",
    "Contributions are welcome! If you could make this project better, feel free to submit a PR. To make the process smooth, here are the steps you should take.\n",
    "\n",
    "1. Open an issue to discuss your suggestions. If we are on the same page, you can start working on the PR. (If we are not, you have saved yourself a ton of work.)\n",
    "2. Fork the repository and create a feature branch where you'll prepare the proposed changes.\n",
    "3. Open a PR to the `main` branch and tag me ([@cosmic-cortex](https://github.com/cosmic-cortex/)) as a reviewer.\n",
    "4. I'll either leave comments and suggestions or merge the PR."
   ]
  },
  {
   "cell_type": "code",
   "execution_count": null,
   "metadata": {},
   "outputs": [],
   "source": []
  }
 ],
 "metadata": {
  "kernelspec": {
   "display_name": "mlfz",
   "language": "python",
   "name": "python3"
  },
  "language_info": {
   "name": "python",
   "version": "3.10.12"
  }
 },
 "nbformat": 4,
 "nbformat_minor": 2
}
