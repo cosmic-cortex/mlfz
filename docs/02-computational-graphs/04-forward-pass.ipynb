{
 "cells": [
  {
   "cell_type": "markdown",
   "metadata": {},
   "source": [
    "(section:scalar/forward-pass)=\n",
    "# The forward pass\n",
    "\n",
    "Now that we understand how to work with computational graphs in `mlfz`, it's time to pull back the curtain and see how they work on the inside. After all, this is what we're here for. (At least, it's why I'm writing this.)\n",
    "\n",
    "As we've seen it before, `Scalar` implements a node in a computational graph. Thus, it must keep track of three attributes:\n",
    "* a numeric value,\n",
    "* the backwards gradient,\n",
    "* and the list of incoming edges.\n",
    "\n",
    "This notebook progressively implements the `Scalar` class via adding more and more features. Note that most of the versions here won't have the full functionality of `mlfz.nn.scalar.Scalar`. The full source can be found on [GitHub](https://github.com/cosmic-cortex/mlfz/blob/main/mlfz/nn/scalar/core.py), but the Python code is not exactly a linear front-to-back text, so we'll unravel it one feature at a time.\n",
    "\n",
    "Here we go:"
   ]
  },
  {
   "cell_type": "code",
   "execution_count": 1,
   "metadata": {},
   "outputs": [],
   "source": [
    "from typing import List\n",
    "\n",
    "\n",
    "class Scalar:\n",
    "    def __init__(self, value: float, prevs: List = None):\n",
    "        self.value = value\n",
    "        self.prevs = prevs if prevs is not None else []\n",
    "        self.backwards_grad = 0\n",
    "\n",
    "    def __repr__(self):\n",
    "        return f\"Scalar({self.value})\""
   ]
  },
  {
   "cell_type": "markdown",
   "metadata": {},
   "source": [
    "(I have also added a simple string representation for readability.) Now, we add the meat to the bones. The first thing to do: build the computational graph via operations."
   ]
  },
  {
   "cell_type": "markdown",
   "metadata": {},
   "source": [
    "## Building the graph\n",
    "\n",
    "We are already familiar with the `Scalar` interface: {ref}`the computational graph is built via appling operations and functions <chapter:scalar>`."
   ]
  },
  {
   "cell_type": "code",
   "execution_count": 2,
   "metadata": {},
   "outputs": [
    {
     "data": {
      "text/plain": [
       "Scalar(3)"
      ]
     },
     "execution_count": 2,
     "metadata": {},
     "output_type": "execute_result"
    }
   ],
   "source": [
    "from mlfz.nn.scalar import Scalar as Scalar_final\n",
    "\n",
    "x = Scalar_final(1)\n",
    "y = Scalar_final(2)\n",
    "\n",
    "x + y"
   ]
  },
  {
   "cell_type": "markdown",
   "metadata": {},
   "source": [
    "(To avoid confusion, `mlfz.nn.scalar.Scalar` is imported as `Scalar_final`.)\n",
    "\n",
    "How is this done? By overloading the operations via implementing the magic methods. In the object oriented Python, there are several of them:\n",
    "\n",
    "* addition `a + b` is done via `__add__`,\n",
    "* subtraction `a - b` is via `__sub__`,\n",
    "* negation `-a` is via `__neg__`,\n",
    "* multiplication `a * b` via `__mul__`,\n",
    "* division `a / b` via `__truediv__`,\n",
    "* exponentiation `a ** b` via `__pow__`,\n",
    "\n",
    "and many more. I'll do the `__add__`, you'll do the rest in an exercise. We'll code first, discuss later."
   ]
  },
  {
   "cell_type": "code",
   "execution_count": 3,
   "metadata": {},
   "outputs": [],
   "source": [
    "class Scalar(Scalar):\n",
    "    # ...\n",
    "\n",
    "    def __add__(self, other):\n",
    "        return Scalar(\n",
    "            value=self.value + other.value,\n",
    "            prevs=[self, other],\n",
    "        )\n",
    "    \n",
    "    # ..."
   ]
  },
  {
   "cell_type": "markdown",
   "metadata": {},
   "source": [
    "````{prf:remark} Implementing classes, one method at a time.\n",
    "\n",
    "As this book is written in Jupyter Notebooks, we can iteratively define classes method by method. To avoid writing out the all the previously implemented methods each time we add a new one, we inherit the new `Scalar` class from the old one. Keep this in mind, as I'll use this trick later.\n",
    "````\n",
    "\n",
    "The `__add__` method simply initializes a new `Scalar` instance, formed from the operands. (In this case, `self` and `other`.)"
   ]
  },
  {
   "cell_type": "code",
   "execution_count": 4,
   "metadata": {},
   "outputs": [],
   "source": [
    "x = Scalar(1)\n",
    "y = Scalar(2.5)\n",
    "z = x + y"
   ]
  },
  {
   "cell_type": "code",
   "execution_count": 5,
   "metadata": {},
   "outputs": [
    {
     "data": {
      "text/plain": [
       "3.5"
      ]
     },
     "execution_count": 5,
     "metadata": {},
     "output_type": "execute_result"
    }
   ],
   "source": [
    "z.value"
   ]
  },
  {
   "cell_type": "markdown",
   "metadata": {},
   "source": [
    "Now, we have a way to track the nodes preceeding `z`:"
   ]
  },
  {
   "cell_type": "code",
   "execution_count": 6,
   "metadata": {},
   "outputs": [
    {
     "data": {
      "text/plain": [
       "[Scalar(1), Scalar(2.5)]"
      ]
     },
     "execution_count": 6,
     "metadata": {},
     "output_type": "execute_result"
    }
   ],
   "source": [
    "z.prevs"
   ]
  },
  {
   "cell_type": "markdown",
   "metadata": {},
   "source": [
    "Can you implement the rest or the operations? Give them a go before revealing the answer."
   ]
  },
  {
   "cell_type": "code",
   "execution_count": 7,
   "metadata": {},
   "outputs": [],
   "source": [
    "class Scalar(Scalar):\n",
    "    # ...\n",
    "\n",
    "    def __add__(self, other):\n",
    "        return Scalar(\n",
    "            value=self.value + other.value,\n",
    "            prevs=[self, other],\n",
    "        )\n",
    "    \n",
    "    # implement these methods along the lines of __add__:\n",
    "    def __mul__(self, other):\n",
    "        pass\n",
    "\n",
    "    def __truediv__(self, other):\n",
    "        pass\n",
    "\n",
    "    def __pow__(self, exponent):\n",
    "        pass\n",
    "\n",
    "    def __neg__(self):\n",
    "        pass\n",
    "\n",
    "    def __sub__(self, other):\n",
    "        pass\n",
    "\n",
    "    # ..."
   ]
  },
  {
   "cell_type": "markdown",
   "metadata": {},
   "source": [
    "Here's the solution:"
   ]
  },
  {
   "cell_type": "code",
   "execution_count": 8,
   "metadata": {
    "tags": [
     "hide-input"
    ]
   },
   "outputs": [],
   "source": [
    "class Scalar(Scalar):\n",
    "    def __mul__(self, other):\n",
    "        return Scalar(\n",
    "            value=self.value * other.value,\n",
    "            prevs=[self, other],\n",
    "        )\n",
    "\n",
    "    def __truediv__(self, other):\n",
    "        return Scalar(\n",
    "            value=self.value / other.value,\n",
    "            prevs=[self, other],\n",
    "        )\n",
    "\n",
    "    def __pow__(self, exponent):\n",
    "        return Scalar(\n",
    "            value=self.value ** exponent.value,\n",
    "            prevs=[self, exponent],\n",
    "        )\n",
    "    \n",
    "    def __neg__(self):\n",
    "        return Scalar(\n",
    "            value=-self.value,\n",
    "            prevs=[self],\n",
    "        )\n",
    "    \n",
    "    def __sub__(self, other):\n",
    "        return self + (-other)"
   ]
  },
  {
   "cell_type": "markdown",
   "metadata": {},
   "source": [
    "Testing:"
   ]
  },
  {
   "cell_type": "code",
   "execution_count": 9,
   "metadata": {},
   "outputs": [
    {
     "name": "stdout",
     "output_type": "stream",
     "text": [
      "Scalar(2) + Scalar(3) = Scalar(5)\n",
      "Scalar(2) * Scalar(3) = Scalar(6)\n",
      "Scalar(2) / Scalar(3) = Scalar(0.6666666666666666)\n",
      "Scalar(2) ** Scalar(3) = Scalar(8)\n",
      "Scalar(2) - Scalar(3) = Scalar(-1)\n",
      "-Scalar(2) = Scalar(-2)\n"
     ]
    }
   ],
   "source": [
    "x = Scalar(2)\n",
    "y = Scalar(3)\n",
    "\n",
    "print(f\"{x} + {y} = {x + y}\")\n",
    "print(f\"{x} * {y} = {x * y}\")\n",
    "print(f\"{x} / {y} = {x / y}\")\n",
    "print(f\"{x} ** {y} = {x ** y}\")\n",
    "print(f\"{x} - {y} = {x - y}\")\n",
    "print(f\"-{x} = {-x}\")"
   ]
  },
  {
   "cell_type": "markdown",
   "metadata": {},
   "source": [
    "### Interoperability with Python's number types\n",
    "\n",
    "At its current state, operations with Python's number types are not supported. Check this out:"
   ]
  },
  {
   "cell_type": "code",
   "execution_count": 10,
   "metadata": {},
   "outputs": [
    {
     "ename": "AttributeError",
     "evalue": "'int' object has no attribute 'value'",
     "output_type": "error",
     "traceback": [
      "\u001b[0;31m---------------------------------------------------------------------------\u001b[0m",
      "\u001b[0;31mAttributeError\u001b[0m                            Traceback (most recent call last)",
      "Cell \u001b[0;32mIn[10], line 1\u001b[0m\n\u001b[0;32m----> 1\u001b[0m \u001b[43mScalar\u001b[49m\u001b[43m(\u001b[49m\u001b[38;5;241;43m1\u001b[39;49m\u001b[43m)\u001b[49m\u001b[43m \u001b[49m\u001b[38;5;241;43m+\u001b[39;49m\u001b[43m \u001b[49m\u001b[38;5;241;43m2\u001b[39;49m\n",
      "Cell \u001b[0;32mIn[7], line 6\u001b[0m, in \u001b[0;36mScalar.__add__\u001b[0;34m(self, other)\u001b[0m\n\u001b[1;32m      4\u001b[0m \u001b[38;5;28;01mdef\u001b[39;00m \u001b[38;5;21m__add__\u001b[39m(\u001b[38;5;28mself\u001b[39m, other):\n\u001b[1;32m      5\u001b[0m     \u001b[38;5;28;01mreturn\u001b[39;00m Scalar(\n\u001b[0;32m----> 6\u001b[0m         value\u001b[38;5;241m=\u001b[39m\u001b[38;5;28mself\u001b[39m\u001b[38;5;241m.\u001b[39mvalue \u001b[38;5;241m+\u001b[39m \u001b[43mother\u001b[49m\u001b[38;5;241;43m.\u001b[39;49m\u001b[43mvalue\u001b[49m,\n\u001b[1;32m      7\u001b[0m         prevs\u001b[38;5;241m=\u001b[39m[\u001b[38;5;28mself\u001b[39m, other],\n\u001b[1;32m      8\u001b[0m     )\n",
      "\u001b[0;31mAttributeError\u001b[0m: 'int' object has no attribute 'value'"
     ]
    }
   ],
   "source": [
    "Scalar(1) + 2"
   ]
  },
  {
   "cell_type": "markdown",
   "metadata": {},
   "source": [
    "The source of this `AttributeError` is that the expression `Scalar(1) + 2` calls `Scalar.__add__`, with arguments `Scalar(1)` and `2`. As `2` is not a `Scalar` object, we immediately run upon an issue.\n",
    "\n",
    "How can we solve this? One simple way is to check the `Scalar`-ness of the second operand, and make the appropriate conversions if needed."
   ]
  },
  {
   "cell_type": "code",
   "execution_count": 11,
   "metadata": {},
   "outputs": [],
   "source": [
    "class Scalar(Scalar):\n",
    "    def __add__(self, other):\n",
    "        if not isinstance(other, Scalar):\n",
    "            other = Scalar(other)\n",
    "\n",
    "        return Scalar(\n",
    "            value=self.value + other.value,\n",
    "            prevs=[self, other],\n",
    "        )\n",
    "    \n",
    "    def __mul__(self, other):\n",
    "        if not isinstance(other, Scalar):\n",
    "            other = Scalar(other)\n",
    "    \n",
    "        return Scalar(\n",
    "            value=self.value * other.value,\n",
    "            prevs=[self, other],\n",
    "        )\n",
    "    \n",
    "    # ...\n",
    "    # the other operations are fixed similarly\n",
    "    # ..."
   ]
  },
  {
   "cell_type": "markdown",
   "metadata": {},
   "source": [
    "Does it work?"
   ]
  },
  {
   "cell_type": "code",
   "execution_count": 12,
   "metadata": {},
   "outputs": [
    {
     "data": {
      "text/plain": [
       "Scalar(3)"
      ]
     },
     "execution_count": 12,
     "metadata": {},
     "output_type": "execute_result"
    }
   ],
   "source": [
    "Scalar(1) + 2"
   ]
  },
  {
   "cell_type": "markdown",
   "metadata": {},
   "source": [
    "Yes, it does!"
   ]
  },
  {
   "cell_type": "markdown",
   "metadata": {},
   "source": [
    "### Operations left and right\n",
    "\n",
    "Now that we've enabled operations with vanilla Python number types, can you guess the output of the expression `2 + Scalar(1)`?\n",
    "\n",
    "Check this out."
   ]
  },
  {
   "cell_type": "code",
   "execution_count": 13,
   "metadata": {},
   "outputs": [
    {
     "ename": "TypeError",
     "evalue": "unsupported operand type(s) for +: 'int' and 'Scalar'",
     "output_type": "error",
     "traceback": [
      "\u001b[0;31m---------------------------------------------------------------------------\u001b[0m",
      "\u001b[0;31mTypeError\u001b[0m                                 Traceback (most recent call last)",
      "Cell \u001b[0;32mIn[13], line 1\u001b[0m\n\u001b[0;32m----> 1\u001b[0m \u001b[38;5;241;43m2\u001b[39;49m\u001b[43m \u001b[49m\u001b[38;5;241;43m+\u001b[39;49m\u001b[43m \u001b[49m\u001b[43mScalar\u001b[49m\u001b[43m(\u001b[49m\u001b[38;5;241;43m1\u001b[39;49m\u001b[43m)\u001b[49m\n",
      "\u001b[0;31mTypeError\u001b[0m: unsupported operand type(s) for +: 'int' and 'Scalar'"
     ]
    }
   ],
   "source": [
    "2 + Scalar(1)"
   ]
  },
  {
   "cell_type": "markdown",
   "metadata": {},
   "source": [
    "What happened?\n",
    "\n",
    "In Python, the expression `a + b` is equivalent to the function call `a.__add__(b)`. In our case, the left operand is a number, and its `__add__` method doesn't support `Scalar`s. However, there's another magic method called `__radd__`, implementing the addition from the left side. \n",
    "\n",
    "What does that mean? That Python falls back to `__radd__` whenever `__add__` doesn't work. To be precise, whenever you call `a + b`,\n",
    "* `a.__add__(b)` is called,\n",
    "* and if it fails, Python attempts to call `b.__radd__(a)`,\n",
    "* and if it fails as well, a `TypeError` is thrown. \n",
    "\n",
    "So, let's add `__radd__`."
   ]
  },
  {
   "cell_type": "code",
   "execution_count": 14,
   "metadata": {},
   "outputs": [],
   "source": [
    "class Scalar(Scalar):\n",
    "    def __add__(self, other):\n",
    "        if not isinstance(other, Scalar):\n",
    "            other = Scalar(other)\n",
    "\n",
    "        return Scalar(\n",
    "            value=self.value + other.value,\n",
    "            prevs=[self, other],\n",
    "        )\n",
    "    \n",
    "    def __radd__(self, other):\n",
    "        return self.__add__(other)\n",
    "\n",
    "    # ..."
   ]
  },
  {
   "cell_type": "markdown",
   "metadata": {},
   "source": [
    "Does it work?"
   ]
  },
  {
   "cell_type": "code",
   "execution_count": 15,
   "metadata": {},
   "outputs": [
    {
     "data": {
      "text/plain": [
       "Scalar(3)"
      ]
     },
     "execution_count": 15,
     "metadata": {},
     "output_type": "execute_result"
    }
   ],
   "source": [
    "2 + Scalar(1)"
   ]
  },
  {
   "cell_type": "markdown",
   "metadata": {},
   "source": [
    "Again, it does!\n",
    "\n",
    "There are magic methods corresponding to the other operations as well:\n",
    "* `__rmul__`,\n",
    "* `__rtruediv__`,\n",
    "* and `__rsub__`.\n",
    "\n",
    "Can you implement them as an exercise?"
   ]
  },
  {
   "cell_type": "code",
   "execution_count": 16,
   "metadata": {},
   "outputs": [],
   "source": [
    "class Scalar(Scalar):\n",
    "    def __neg__(self):\n",
    "        return (-1) * self\n",
    "    \n",
    "    def __sub__(self, other):\n",
    "        return self + (-other)\n",
    "    \n",
    "    def __radd__(self, other):\n",
    "        return self.__add__(other)\n",
    "    \n",
    "    # implement these methods along the lines of __radd__:\n",
    "    def __rmul__(self, other):\n",
    "        pass\n",
    "\n",
    "    def __rtruediv__(self, other):\n",
    "        pass\n",
    "\n",
    "    def __rsub__(self, other):\n",
    "        pass\n"
   ]
  },
  {
   "cell_type": "markdown",
   "metadata": {},
   "source": [
    "Here's the solution:"
   ]
  },
  {
   "cell_type": "code",
   "execution_count": 17,
   "metadata": {
    "tags": [
     "hide-input"
    ]
   },
   "outputs": [],
   "source": [
    "class Scalar(Scalar):    \n",
    "    def __neg__(self):\n",
    "        return (-1) * self\n",
    "    \n",
    "    def __sub__(self, other):\n",
    "        return self + (-other)\n",
    "    \n",
    "    def __radd__(self, other):\n",
    "        return self.__add__(other)\n",
    "    \n",
    "    def __rmul__(self, other):\n",
    "        return self * other\n",
    "\n",
    "    def __rtruediv__(self, other):\n",
    "        if not isinstance(other, Scalar):\n",
    "            other = Scalar(other)\n",
    "\n",
    "        return other / self\n",
    "\n",
    "    def __rsub__(self, other):\n",
    "        return other + (-self)"
   ]
  },
  {
   "cell_type": "markdown",
   "metadata": {},
   "source": [
    "Testing:"
   ]
  },
  {
   "cell_type": "code",
   "execution_count": 18,
   "metadata": {},
   "outputs": [
    {
     "name": "stdout",
     "output_type": "stream",
     "text": [
      "2 + Scalar(3) = Scalar(5)\n",
      "2 * Scalar(3) = Scalar(6)\n",
      "2 / Scalar(3) = Scalar(0.6666666666666666)\n",
      "2 - Scalar(3) = Scalar(-1)\n"
     ]
    }
   ],
   "source": [
    "x = 2\n",
    "y = Scalar(3)\n",
    "\n",
    "print(f\"{x} + {y} = {x + y}\")\n",
    "print(f\"{x} * {y} = {x * y}\")\n",
    "print(f\"{x} / {y} = {x / y}\")\n",
    "print(f\"{x} - {y} = {x - y}\")"
   ]
  },
  {
   "cell_type": "markdown",
   "metadata": {},
   "source": [
    "(section:computational-graphs/forward-pass/functions)=\n",
    "### Defining functions for nodes\n",
    "\n",
    "So far, we've only added support for arithmetic operations such as `+`, `-`, `*`, `/`, and `**`. What about functions? After all, machine learning models are defined by mathematical expressions such as $ f(x) = \\sigma(ax + b) $, where\n",
    "\n",
    "$$\n",
    "\\sigma(x) = \\frac{1}{1 + e^{-x}}\n",
    "$$\n",
    "\n",
    "is the sigmoid function. How to do that with `Scalar` instances?\n",
    "\n",
    "There are multiple potential approaches; we'll go with functions that take and return `Scalar` objects. This is simpler than you think. Here we go:"
   ]
  },
  {
   "cell_type": "code",
   "execution_count": 19,
   "metadata": {},
   "outputs": [],
   "source": [
    "import math\n",
    "\n",
    "\n",
    "def exp(x: Scalar) -> Scalar:\n",
    "    return Scalar(\n",
    "        value=math.exp(x.value),\n",
    "        prevs=[x]\n",
    "    )"
   ]
  },
  {
   "cell_type": "code",
   "execution_count": 20,
   "metadata": {},
   "outputs": [
    {
     "data": {
      "text/plain": [
       "Scalar(7.38905609893065)"
      ]
     },
     "execution_count": 20,
     "metadata": {},
     "output_type": "execute_result"
    }
   ],
   "source": [
    "x = Scalar(2)\n",
    "y = exp(x)\n",
    "\n",
    "y"
   ]
  },
  {
   "cell_type": "code",
   "execution_count": 21,
   "metadata": {},
   "outputs": [
    {
     "data": {
      "text/plain": [
       "[Scalar(2)]"
      ]
     },
     "execution_count": 21,
     "metadata": {},
     "output_type": "execute_result"
    }
   ],
   "source": [
    "y.prevs"
   ]
  },
  {
   "cell_type": "markdown",
   "metadata": {},
   "source": [
    "In `mlfz`, these can be found at `mlfz.nn.scalar.functional`. Nothing fancy, just plain old `sin`, `cos`, `sigmoid`, `relu`, and other machine learning-related functions.\n",
    "\n",
    "Exercise time! Your job is to implement the sigmoid function below."
   ]
  },
  {
   "cell_type": "code",
   "execution_count": 22,
   "metadata": {},
   "outputs": [],
   "source": [
    "def sigmoid(x: Scalar) -> Scalar:\n",
    "    pass"
   ]
  },
  {
   "cell_type": "markdown",
   "metadata": {},
   "source": [
    "And the solution is:"
   ]
  },
  {
   "cell_type": "code",
   "execution_count": 23,
   "metadata": {
    "tags": [
     "hide-input"
    ]
   },
   "outputs": [],
   "source": [
    "def sigmoid(x: Scalar) -> Scalar:\n",
    "    return Scalar(\n",
    "        value=1 / (1 + math.exp(-x.value)),\n",
    "        prevs=[x]\n",
    "    )"
   ]
  },
  {
   "cell_type": "markdown",
   "metadata": {},
   "source": [
    "This works as expected."
   ]
  },
  {
   "cell_type": "code",
   "execution_count": 24,
   "metadata": {},
   "outputs": [
    {
     "data": {
      "text/plain": [
       "Scalar(0.9525741268224334)"
      ]
     },
     "execution_count": 24,
     "metadata": {},
     "output_type": "execute_result"
    }
   ],
   "source": [
    "sigmoid(Scalar(3))"
   ]
  },
  {
   "cell_type": "markdown",
   "metadata": {},
   "source": [
    "## The forward pass\n",
    "\n",
    "Let's put all of this together and check how the computational graph is built upon applying the operations.\n",
    "\n",
    "For that, we need a function that recursively traverses all parent nodes and returns the directed graph, using the `Digraph` object from the `graphviz` library."
   ]
  },
  {
   "cell_type": "code",
   "execution_count": 25,
   "metadata": {},
   "outputs": [],
   "source": [
    "from graphviz import Digraph\n",
    "\n",
    "\n",
    "def get_digraph(x):\n",
    "    digraph = Digraph()\n",
    "\n",
    "    def register_node(x):\n",
    "        digraph.node(str(id(x)), f\"{x.value: 0.4g}\")\n",
    "        for prev in x.prevs:\n",
    "            digraph.edges([(str(id(prev)), str(id(x)))])\n",
    "            register_node(prev)\n",
    "\n",
    "    register_node(x)\n",
    "\n",
    "    return digraph"
   ]
  },
  {
   "cell_type": "markdown",
   "metadata": {},
   "source": [
    "We'll study the simple computational graph defined by\n",
    "\n",
    "$$\n",
    "\\sigma(a x + b) + a,\n",
    "$$\n",
    "\n",
    "where $ \\sigma(x) = 1/(1 + e^{-x}) $ is the familiar sigmoid function."
   ]
  },
  {
   "cell_type": "code",
   "execution_count": 26,
   "metadata": {},
   "outputs": [],
   "source": [
    "a = Scalar(0.2)\n",
    "b = Scalar(-1.8)\n",
    "x = Scalar(0.6)\n",
    "\n",
    "y = a * x + b\n",
    "s = sigmoid(y)\n",
    "z = s + a"
   ]
  },
  {
   "cell_type": "markdown",
   "metadata": {},
   "source": [
    "(The above is equivalent to the expression `sigmoid(a * x + b) + a`, but I choose to break it up into smaller components to assign variables to all intermediate results.)\n",
    "\n",
    "First, `y = a * x + b` is computed."
   ]
  },
  {
   "cell_type": "code",
   "execution_count": 27,
   "metadata": {},
   "outputs": [
    {
     "data": {
      "image/svg+xml": [
       "<?xml version=\"1.0\" encoding=\"UTF-8\" standalone=\"no\"?>\n",
       "<!DOCTYPE svg PUBLIC \"-//W3C//DTD SVG 1.1//EN\"\n",
       " \"http://www.w3.org/Graphics/SVG/1.1/DTD/svg11.dtd\">\n",
       "<!-- Generated by graphviz version 2.43.0 (0)\n",
       " -->\n",
       "<!-- Title: %3 Pages: 1 -->\n",
       "<svg width=\"183pt\" height=\"188pt\"\n",
       " viewBox=\"0.00 0.00 183.19 188.00\" xmlns=\"http://www.w3.org/2000/svg\" xmlns:xlink=\"http://www.w3.org/1999/xlink\">\n",
       "<g id=\"graph0\" class=\"graph\" transform=\"scale(1 1) rotate(0) translate(4 184)\">\n",
       "<title>%3</title>\n",
       "<polygon fill=\"white\" stroke=\"transparent\" points=\"-4,4 -4,-184 179.19,-184 179.19,4 -4,4\"/>\n",
       "<!-- 123181876997840 -->\n",
       "<g id=\"node1\" class=\"node\">\n",
       "<title>123181876997840</title>\n",
       "<ellipse fill=\"none\" stroke=\"black\" cx=\"105.6\" cy=\"-18\" rx=\"34.39\" ry=\"18\"/>\n",
       "<text text-anchor=\"middle\" x=\"105.6\" y=\"-14.3\" font-family=\"Times,serif\" font-size=\"14.00\">&#45;1.68</text>\n",
       "</g>\n",
       "<!-- 123181876997024 -->\n",
       "<g id=\"node2\" class=\"node\">\n",
       "<title>123181876997024</title>\n",
       "<ellipse fill=\"none\" stroke=\"black\" cx=\"65.6\" cy=\"-90\" rx=\"34.39\" ry=\"18\"/>\n",
       "<text text-anchor=\"middle\" x=\"65.6\" y=\"-86.3\" font-family=\"Times,serif\" font-size=\"14.00\"> 0.12</text>\n",
       "</g>\n",
       "<!-- 123181876997024&#45;&gt;123181876997840 -->\n",
       "<g id=\"edge1\" class=\"edge\">\n",
       "<title>123181876997024&#45;&gt;123181876997840</title>\n",
       "<path fill=\"none\" stroke=\"black\" d=\"M75.08,-72.41C79.86,-64.04 85.76,-53.71 91.1,-44.37\"/>\n",
       "<polygon fill=\"black\" stroke=\"black\" points=\"94.26,-45.89 96.19,-35.47 88.19,-42.42 94.26,-45.89\"/>\n",
       "</g>\n",
       "<!-- 123181876997312 -->\n",
       "<g id=\"node3\" class=\"node\">\n",
       "<title>123181876997312</title>\n",
       "<ellipse fill=\"none\" stroke=\"black\" cx=\"28.6\" cy=\"-162\" rx=\"28.7\" ry=\"18\"/>\n",
       "<text text-anchor=\"middle\" x=\"28.6\" y=\"-158.3\" font-family=\"Times,serif\" font-size=\"14.00\"> 0.2</text>\n",
       "</g>\n",
       "<!-- 123181876997312&#45;&gt;123181876997024 -->\n",
       "<g id=\"edge2\" class=\"edge\">\n",
       "<title>123181876997312&#45;&gt;123181876997024</title>\n",
       "<path fill=\"none\" stroke=\"black\" d=\"M37.18,-144.76C41.6,-136.4 47.09,-126.02 52.06,-116.61\"/>\n",
       "<polygon fill=\"black\" stroke=\"black\" points=\"55.23,-118.11 56.81,-107.63 49.04,-114.84 55.23,-118.11\"/>\n",
       "</g>\n",
       "<!-- 123181876998032 -->\n",
       "<g id=\"node4\" class=\"node\">\n",
       "<title>123181876998032</title>\n",
       "<ellipse fill=\"none\" stroke=\"black\" cx=\"103.6\" cy=\"-162\" rx=\"28.7\" ry=\"18\"/>\n",
       "<text text-anchor=\"middle\" x=\"103.6\" y=\"-158.3\" font-family=\"Times,serif\" font-size=\"14.00\"> 0.6</text>\n",
       "</g>\n",
       "<!-- 123181876998032&#45;&gt;123181876997024 -->\n",
       "<g id=\"edge3\" class=\"edge\">\n",
       "<title>123181876998032&#45;&gt;123181876997024</title>\n",
       "<path fill=\"none\" stroke=\"black\" d=\"M94.78,-144.76C90.25,-136.4 84.61,-126.02 79.5,-116.61\"/>\n",
       "<polygon fill=\"black\" stroke=\"black\" points=\"82.47,-114.75 74.63,-107.63 76.32,-118.09 82.47,-114.75\"/>\n",
       "</g>\n",
       "<!-- 123181876995872 -->\n",
       "<g id=\"node5\" class=\"node\">\n",
       "<title>123181876995872</title>\n",
       "<ellipse fill=\"none\" stroke=\"black\" cx=\"146.6\" cy=\"-90\" rx=\"28.7\" ry=\"18\"/>\n",
       "<text text-anchor=\"middle\" x=\"146.6\" y=\"-86.3\" font-family=\"Times,serif\" font-size=\"14.00\">&#45;1.8</text>\n",
       "</g>\n",
       "<!-- 123181876995872&#45;&gt;123181876997840 -->\n",
       "<g id=\"edge4\" class=\"edge\">\n",
       "<title>123181876995872&#45;&gt;123181876997840</title>\n",
       "<path fill=\"none\" stroke=\"black\" d=\"M137.09,-72.76C132.14,-64.32 125.98,-53.8 120.42,-44.31\"/>\n",
       "<polygon fill=\"black\" stroke=\"black\" points=\"123.41,-42.49 115.34,-35.63 117.37,-46.03 123.41,-42.49\"/>\n",
       "</g>\n",
       "</g>\n",
       "</svg>\n"
      ],
      "text/plain": [
       "<graphviz.graphs.Digraph at 0x7008840574d0>"
      ]
     },
     "execution_count": 27,
     "metadata": {},
     "output_type": "execute_result"
    }
   ],
   "source": [
    "get_digraph(y)"
   ]
  },
  {
   "cell_type": "markdown",
   "metadata": {},
   "source": [
    "The second step is the application of the sigmoid function, adding a child node to `y`."
   ]
  },
  {
   "cell_type": "code",
   "execution_count": 28,
   "metadata": {},
   "outputs": [
    {
     "data": {
      "image/svg+xml": [
       "<?xml version=\"1.0\" encoding=\"UTF-8\" standalone=\"no\"?>\n",
       "<!DOCTYPE svg PUBLIC \"-//W3C//DTD SVG 1.1//EN\"\n",
       " \"http://www.w3.org/Graphics/SVG/1.1/DTD/svg11.dtd\">\n",
       "<!-- Generated by graphviz version 2.43.0 (0)\n",
       " -->\n",
       "<!-- Title: %3 Pages: 1 -->\n",
       "<svg width=\"183pt\" height=\"260pt\"\n",
       " viewBox=\"0.00 0.00 183.19 260.00\" xmlns=\"http://www.w3.org/2000/svg\" xmlns:xlink=\"http://www.w3.org/1999/xlink\">\n",
       "<g id=\"graph0\" class=\"graph\" transform=\"scale(1 1) rotate(0) translate(4 256)\">\n",
       "<title>%3</title>\n",
       "<polygon fill=\"white\" stroke=\"transparent\" points=\"-4,4 -4,-256 179.19,-256 179.19,4 -4,4\"/>\n",
       "<!-- 123181876997552 -->\n",
       "<g id=\"node1\" class=\"node\">\n",
       "<title>123181876997552</title>\n",
       "<ellipse fill=\"none\" stroke=\"black\" cx=\"105.6\" cy=\"-18\" rx=\"46.29\" ry=\"18\"/>\n",
       "<text text-anchor=\"middle\" x=\"105.6\" y=\"-14.3\" font-family=\"Times,serif\" font-size=\"14.00\"> 0.1571</text>\n",
       "</g>\n",
       "<!-- 123181876997840 -->\n",
       "<g id=\"node2\" class=\"node\">\n",
       "<title>123181876997840</title>\n",
       "<ellipse fill=\"none\" stroke=\"black\" cx=\"105.6\" cy=\"-90\" rx=\"34.39\" ry=\"18\"/>\n",
       "<text text-anchor=\"middle\" x=\"105.6\" y=\"-86.3\" font-family=\"Times,serif\" font-size=\"14.00\">&#45;1.68</text>\n",
       "</g>\n",
       "<!-- 123181876997840&#45;&gt;123181876997552 -->\n",
       "<g id=\"edge1\" class=\"edge\">\n",
       "<title>123181876997840&#45;&gt;123181876997552</title>\n",
       "<path fill=\"none\" stroke=\"black\" d=\"M105.6,-71.7C105.6,-63.98 105.6,-54.71 105.6,-46.11\"/>\n",
       "<polygon fill=\"black\" stroke=\"black\" points=\"109.1,-46.1 105.6,-36.1 102.1,-46.1 109.1,-46.1\"/>\n",
       "</g>\n",
       "<!-- 123181876997024 -->\n",
       "<g id=\"node3\" class=\"node\">\n",
       "<title>123181876997024</title>\n",
       "<ellipse fill=\"none\" stroke=\"black\" cx=\"65.6\" cy=\"-162\" rx=\"34.39\" ry=\"18\"/>\n",
       "<text text-anchor=\"middle\" x=\"65.6\" y=\"-158.3\" font-family=\"Times,serif\" font-size=\"14.00\"> 0.12</text>\n",
       "</g>\n",
       "<!-- 123181876997024&#45;&gt;123181876997840 -->\n",
       "<g id=\"edge2\" class=\"edge\">\n",
       "<title>123181876997024&#45;&gt;123181876997840</title>\n",
       "<path fill=\"none\" stroke=\"black\" d=\"M75.08,-144.41C79.86,-136.04 85.76,-125.71 91.1,-116.37\"/>\n",
       "<polygon fill=\"black\" stroke=\"black\" points=\"94.26,-117.89 96.19,-107.47 88.19,-114.42 94.26,-117.89\"/>\n",
       "</g>\n",
       "<!-- 123181876997312 -->\n",
       "<g id=\"node4\" class=\"node\">\n",
       "<title>123181876997312</title>\n",
       "<ellipse fill=\"none\" stroke=\"black\" cx=\"28.6\" cy=\"-234\" rx=\"28.7\" ry=\"18\"/>\n",
       "<text text-anchor=\"middle\" x=\"28.6\" y=\"-230.3\" font-family=\"Times,serif\" font-size=\"14.00\"> 0.2</text>\n",
       "</g>\n",
       "<!-- 123181876997312&#45;&gt;123181876997024 -->\n",
       "<g id=\"edge3\" class=\"edge\">\n",
       "<title>123181876997312&#45;&gt;123181876997024</title>\n",
       "<path fill=\"none\" stroke=\"black\" d=\"M37.18,-216.76C41.6,-208.4 47.09,-198.02 52.06,-188.61\"/>\n",
       "<polygon fill=\"black\" stroke=\"black\" points=\"55.23,-190.11 56.81,-179.63 49.04,-186.84 55.23,-190.11\"/>\n",
       "</g>\n",
       "<!-- 123181876998032 -->\n",
       "<g id=\"node5\" class=\"node\">\n",
       "<title>123181876998032</title>\n",
       "<ellipse fill=\"none\" stroke=\"black\" cx=\"103.6\" cy=\"-234\" rx=\"28.7\" ry=\"18\"/>\n",
       "<text text-anchor=\"middle\" x=\"103.6\" y=\"-230.3\" font-family=\"Times,serif\" font-size=\"14.00\"> 0.6</text>\n",
       "</g>\n",
       "<!-- 123181876998032&#45;&gt;123181876997024 -->\n",
       "<g id=\"edge4\" class=\"edge\">\n",
       "<title>123181876998032&#45;&gt;123181876997024</title>\n",
       "<path fill=\"none\" stroke=\"black\" d=\"M94.78,-216.76C90.25,-208.4 84.61,-198.02 79.5,-188.61\"/>\n",
       "<polygon fill=\"black\" stroke=\"black\" points=\"82.47,-186.75 74.63,-179.63 76.32,-190.09 82.47,-186.75\"/>\n",
       "</g>\n",
       "<!-- 123181876995872 -->\n",
       "<g id=\"node6\" class=\"node\">\n",
       "<title>123181876995872</title>\n",
       "<ellipse fill=\"none\" stroke=\"black\" cx=\"146.6\" cy=\"-162\" rx=\"28.7\" ry=\"18\"/>\n",
       "<text text-anchor=\"middle\" x=\"146.6\" y=\"-158.3\" font-family=\"Times,serif\" font-size=\"14.00\">&#45;1.8</text>\n",
       "</g>\n",
       "<!-- 123181876995872&#45;&gt;123181876997840 -->\n",
       "<g id=\"edge5\" class=\"edge\">\n",
       "<title>123181876995872&#45;&gt;123181876997840</title>\n",
       "<path fill=\"none\" stroke=\"black\" d=\"M137.09,-144.76C132.14,-136.32 125.98,-125.8 120.42,-116.31\"/>\n",
       "<polygon fill=\"black\" stroke=\"black\" points=\"123.41,-114.49 115.34,-107.63 117.37,-118.03 123.41,-114.49\"/>\n",
       "</g>\n",
       "</g>\n",
       "</svg>\n"
      ],
      "text/plain": [
       "<graphviz.graphs.Digraph at 0x700884057200>"
      ]
     },
     "execution_count": 28,
     "metadata": {},
     "output_type": "execute_result"
    }
   ],
   "source": [
    "get_digraph(s)"
   ]
  },
  {
   "cell_type": "markdown",
   "metadata": {},
   "source": [
    "To make things more exciting, we add another node, but this time, we attach it to `s = sigmoid(y)` and the input node `a = Scalar(0.2)`."
   ]
  },
  {
   "cell_type": "code",
   "execution_count": 29,
   "metadata": {},
   "outputs": [
    {
     "data": {
      "image/svg+xml": [
       "<?xml version=\"1.0\" encoding=\"UTF-8\" standalone=\"no\"?>\n",
       "<!DOCTYPE svg PUBLIC \"-//W3C//DTD SVG 1.1//EN\"\n",
       " \"http://www.w3.org/Graphics/SVG/1.1/DTD/svg11.dtd\">\n",
       "<!-- Generated by graphviz version 2.43.0 (0)\n",
       " -->\n",
       "<!-- Title: %3 Pages: 1 -->\n",
       "<svg width=\"214pt\" height=\"332pt\"\n",
       " viewBox=\"0.00 0.00 214.19 332.00\" xmlns=\"http://www.w3.org/2000/svg\" xmlns:xlink=\"http://www.w3.org/1999/xlink\">\n",
       "<g id=\"graph0\" class=\"graph\" transform=\"scale(1 1) rotate(0) translate(4 328)\">\n",
       "<title>%3</title>\n",
       "<polygon fill=\"white\" stroke=\"transparent\" points=\"-4,4 -4,-328 210.19,-328 210.19,4 -4,4\"/>\n",
       "<!-- 123181876995584 -->\n",
       "<g id=\"node1\" class=\"node\">\n",
       "<title>123181876995584</title>\n",
       "<ellipse fill=\"none\" stroke=\"black\" cx=\"65.6\" cy=\"-18\" rx=\"46.29\" ry=\"18\"/>\n",
       "<text text-anchor=\"middle\" x=\"65.6\" y=\"-14.3\" font-family=\"Times,serif\" font-size=\"14.00\"> 0.3571</text>\n",
       "</g>\n",
       "<!-- 123181876997552 -->\n",
       "<g id=\"node2\" class=\"node\">\n",
       "<title>123181876997552</title>\n",
       "<ellipse fill=\"none\" stroke=\"black\" cx=\"102.6\" cy=\"-90\" rx=\"46.29\" ry=\"18\"/>\n",
       "<text text-anchor=\"middle\" x=\"102.6\" y=\"-86.3\" font-family=\"Times,serif\" font-size=\"14.00\"> 0.1571</text>\n",
       "</g>\n",
       "<!-- 123181876997552&#45;&gt;123181876995584 -->\n",
       "<g id=\"edge1\" class=\"edge\">\n",
       "<title>123181876997552&#45;&gt;123181876995584</title>\n",
       "<path fill=\"none\" stroke=\"black\" d=\"M93.64,-72.05C89.32,-63.89 84.05,-53.91 79.25,-44.82\"/>\n",
       "<polygon fill=\"black\" stroke=\"black\" points=\"82.24,-42.99 74.47,-35.79 76.05,-46.27 82.24,-42.99\"/>\n",
       "</g>\n",
       "<!-- 123181876997840 -->\n",
       "<g id=\"node3\" class=\"node\">\n",
       "<title>123181876997840</title>\n",
       "<ellipse fill=\"none\" stroke=\"black\" cx=\"102.6\" cy=\"-162\" rx=\"34.39\" ry=\"18\"/>\n",
       "<text text-anchor=\"middle\" x=\"102.6\" y=\"-158.3\" font-family=\"Times,serif\" font-size=\"14.00\">&#45;1.68</text>\n",
       "</g>\n",
       "<!-- 123181876997840&#45;&gt;123181876997552 -->\n",
       "<g id=\"edge2\" class=\"edge\">\n",
       "<title>123181876997840&#45;&gt;123181876997552</title>\n",
       "<path fill=\"none\" stroke=\"black\" d=\"M102.6,-143.7C102.6,-135.98 102.6,-126.71 102.6,-118.11\"/>\n",
       "<polygon fill=\"black\" stroke=\"black\" points=\"106.1,-118.1 102.6,-108.1 99.1,-118.1 106.1,-118.1\"/>\n",
       "</g>\n",
       "<!-- 123181876997024 -->\n",
       "<g id=\"node4\" class=\"node\">\n",
       "<title>123181876997024</title>\n",
       "<ellipse fill=\"none\" stroke=\"black\" cx=\"96.6\" cy=\"-234\" rx=\"34.39\" ry=\"18\"/>\n",
       "<text text-anchor=\"middle\" x=\"96.6\" y=\"-230.3\" font-family=\"Times,serif\" font-size=\"14.00\"> 0.12</text>\n",
       "</g>\n",
       "<!-- 123181876997024&#45;&gt;123181876997840 -->\n",
       "<g id=\"edge3\" class=\"edge\">\n",
       "<title>123181876997024&#45;&gt;123181876997840</title>\n",
       "<path fill=\"none\" stroke=\"black\" d=\"M98.08,-215.7C98.74,-207.98 99.54,-198.71 100.27,-190.11\"/>\n",
       "<polygon fill=\"black\" stroke=\"black\" points=\"103.76,-190.37 101.13,-180.1 96.79,-189.77 103.76,-190.37\"/>\n",
       "</g>\n",
       "<!-- 123181876997312 -->\n",
       "<g id=\"node5\" class=\"node\">\n",
       "<title>123181876997312</title>\n",
       "<ellipse fill=\"none\" stroke=\"black\" cx=\"28.6\" cy=\"-306\" rx=\"28.7\" ry=\"18\"/>\n",
       "<text text-anchor=\"middle\" x=\"28.6\" y=\"-302.3\" font-family=\"Times,serif\" font-size=\"14.00\"> 0.2</text>\n",
       "</g>\n",
       "<!-- 123181876997312&#45;&gt;123181876995584 -->\n",
       "<g id=\"edge7\" class=\"edge\">\n",
       "<title>123181876997312&#45;&gt;123181876995584</title>\n",
       "<path fill=\"none\" stroke=\"black\" d=\"M28.56,-287.84C28.79,-248.99 31.12,-151.48 47.6,-72 49.42,-63.21 52.27,-53.85 55.17,-45.49\"/>\n",
       "<polygon fill=\"black\" stroke=\"black\" points=\"58.54,-46.48 58.67,-35.89 51.96,-44.09 58.54,-46.48\"/>\n",
       "</g>\n",
       "<!-- 123181876997312&#45;&gt;123181876997024 -->\n",
       "<g id=\"edge4\" class=\"edge\">\n",
       "<title>123181876997312&#45;&gt;123181876997024</title>\n",
       "<path fill=\"none\" stroke=\"black\" d=\"M43.02,-290.15C52.18,-280.72 64.22,-268.33 74.56,-257.69\"/>\n",
       "<polygon fill=\"black\" stroke=\"black\" points=\"77.27,-259.92 81.73,-250.31 72.25,-255.04 77.27,-259.92\"/>\n",
       "</g>\n",
       "<!-- 123181876998032 -->\n",
       "<g id=\"node6\" class=\"node\">\n",
       "<title>123181876998032</title>\n",
       "<ellipse fill=\"none\" stroke=\"black\" cx=\"103.6\" cy=\"-306\" rx=\"28.7\" ry=\"18\"/>\n",
       "<text text-anchor=\"middle\" x=\"103.6\" y=\"-302.3\" font-family=\"Times,serif\" font-size=\"14.00\"> 0.6</text>\n",
       "</g>\n",
       "<!-- 123181876998032&#45;&gt;123181876997024 -->\n",
       "<g id=\"edge5\" class=\"edge\">\n",
       "<title>123181876998032&#45;&gt;123181876997024</title>\n",
       "<path fill=\"none\" stroke=\"black\" d=\"M101.87,-287.7C101.1,-279.98 100.17,-270.71 99.31,-262.11\"/>\n",
       "<polygon fill=\"black\" stroke=\"black\" points=\"102.79,-261.71 98.31,-252.1 95.82,-262.4 102.79,-261.71\"/>\n",
       "</g>\n",
       "<!-- 123181876995872 -->\n",
       "<g id=\"node7\" class=\"node\">\n",
       "<title>123181876995872</title>\n",
       "<ellipse fill=\"none\" stroke=\"black\" cx=\"177.6\" cy=\"-234\" rx=\"28.7\" ry=\"18\"/>\n",
       "<text text-anchor=\"middle\" x=\"177.6\" y=\"-230.3\" font-family=\"Times,serif\" font-size=\"14.00\">&#45;1.8</text>\n",
       "</g>\n",
       "<!-- 123181876995872&#45;&gt;123181876997840 -->\n",
       "<g id=\"edge6\" class=\"edge\">\n",
       "<title>123181876995872&#45;&gt;123181876997840</title>\n",
       "<path fill=\"none\" stroke=\"black\" d=\"M162.06,-218.5C151.64,-208.77 137.73,-195.79 125.98,-184.83\"/>\n",
       "<polygon fill=\"black\" stroke=\"black\" points=\"128.33,-182.23 118.64,-177.97 123.56,-187.35 128.33,-182.23\"/>\n",
       "</g>\n",
       "</g>\n",
       "</svg>\n"
      ],
      "text/plain": [
       "<graphviz.graphs.Digraph at 0x700884057950>"
      ]
     },
     "execution_count": 29,
     "metadata": {},
     "output_type": "execute_result"
    }
   ],
   "source": [
    "get_digraph(z)"
   ]
  },
  {
   "cell_type": "markdown",
   "metadata": {},
   "source": [
    "What we've seen here is the forward pass corresponding to the computational graph of `sigmoid(a * x + b) + a`: the input nodes `a`, `b`, and `x` are propagated through the graph to calculate the value `z = sigmoid(a * x + b) + a`, one step at a time.\n",
    "\n",
    "To train neural networks, we utilize the gradient algorithm that, in turn, requires us to compute the derivative of the final node with respect to all other nodes. This is done in the *backward pass*, and we'll learn what it is in the next chapter."
   ]
  }
 ],
 "metadata": {
  "kernelspec": {
   "display_name": "mlfz",
   "language": "python",
   "name": "python3"
  },
  "language_info": {
   "codemirror_mode": {
    "name": "ipython",
    "version": 3
   },
   "file_extension": ".py",
   "mimetype": "text/x-python",
   "name": "python",
   "nbconvert_exporter": "python",
   "pygments_lexer": "ipython3",
   "version": "3.12.3"
  }
 },
 "nbformat": 4,
 "nbformat_minor": 2
}
