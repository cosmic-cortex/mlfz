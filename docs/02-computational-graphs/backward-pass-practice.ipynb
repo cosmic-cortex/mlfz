{
 "cells": [
  {
   "cell_type": "markdown",
   "metadata": {},
   "source": [
    "# The backward pass (in practice)\n",
    "\n",
    "In the previous chapter, we have learned about backpropagation; now, it's time to implement it. We'll continue where we left off with our `Scalar` class. To make it suitable for backpropagation, we need to make some enhancements:\n",
    "\n",
    "1. have `Scalar`s track the backward derivatives,\n",
    "2. and store the local derivatives along the incoming edges.\n",
    "\n",
    "The first one is already there via the `Scalar.backwards_grad` attribute. As its value is calculated, we do not allow setting it upon initialization, but set it to zero instead. (I have named it `backwards_grad` instead of `backwards_derivative` to match the interface of our future `Tensor` class. I know, I am a bit of an overthinker.)\n",
    "\n",
    "Now, onto the meaty parts!"
   ]
  },
  {
   "cell_type": "markdown",
   "metadata": {},
   "source": [
    "## Tracking the local derivatives\n",
    "\n",
    "In the {ref}`current version of Scalars <section:scalar/forward-pass>`, we only track the previous nodes. Recall how it behaves in action. (Here's the current implementation as well, if you want to recall. You have to open it manually although; I don't want to clutter the text with it.)"
   ]
  },
  {
   "cell_type": "code",
   "execution_count": 1,
   "metadata": {
    "tags": [
     "hide-input"
    ]
   },
   "outputs": [],
   "source": [
    "from typing import List\n",
    "\n",
    "\n",
    "class Scalar:\n",
    "    def __init__(self, value: float, prevs: List = None):\n",
    "        self.value = value\n",
    "        self.prevs = prevs if prevs is not None else []\n",
    "        self.backwards_grad = 0\n",
    "\n",
    "    def __repr__(self):\n",
    "        return f\"Scalar({self.value})\"\n",
    "    \n",
    "    def __add__(self, other):\n",
    "        if not isinstance(other, Scalar):\n",
    "            other = Scalar(other)\n",
    "\n",
    "        return Scalar(\n",
    "            value=self.value + other.value,\n",
    "            prevs=[self, other],\n",
    "        )\n",
    "    \n",
    "    def __mul__(self, other):\n",
    "        if not isinstance(other, Scalar):\n",
    "            other = Scalar(other)\n",
    "\n",
    "        return Scalar(\n",
    "            value=self.value * other.value,\n",
    "            prevs=[self, other],\n",
    "        )\n",
    "\n",
    "    def __truediv__(self, other):\n",
    "        if not isinstance(other, Scalar):\n",
    "            other = Scalar(other)\n",
    "\n",
    "        return Scalar(\n",
    "            value=self.value / other.value,\n",
    "            prevs=[self, other],\n",
    "        )\n",
    "\n",
    "    def __pow__(self, exponent):\n",
    "        if not isinstance(other, Scalar):\n",
    "            other = Scalar(other)\n",
    "\n",
    "        return Scalar(\n",
    "            value=self.value ** exponent.value,\n",
    "            prevs=[self, exponent],\n",
    "        )\n",
    "    \n",
    "    def __neg__(self):\n",
    "        return (-1) * self\n",
    "    \n",
    "    def __sub__(self, other):\n",
    "        return self + (-other)\n",
    "    \n",
    "    def __radd__(self, other):\n",
    "        return self.__add__(other)\n",
    "    \n",
    "    def __rmul__(self, other):\n",
    "        return self * other\n",
    "\n",
    "    def __rtruediv__(self, other):\n",
    "        if not isinstance(other, Scalar):\n",
    "            other = Scalar(other)\n",
    "\n",
    "        return other / self\n",
    "\n",
    "    def __rsub__(self, other):\n",
    "        return other + (-self)"
   ]
  },
  {
   "cell_type": "code",
   "execution_count": 2,
   "metadata": {},
   "outputs": [],
   "source": [
    "a = Scalar(3)\n",
    "b = Scalar(4)\n",
    "c = a - b"
   ]
  },
  {
   "cell_type": "code",
   "execution_count": 3,
   "metadata": {},
   "outputs": [
    {
     "data": {
      "text/plain": [
       "[Scalar(3), Scalar(-4)]"
      ]
     },
     "execution_count": 3,
     "metadata": {},
     "output_type": "execute_result"
    }
   ],
   "source": [
    "c.prevs"
   ]
  },
  {
   "cell_type": "markdown",
   "metadata": {},
   "source": [
    "To carry out the backpropagation, we have to know the local derivatives along the edges. There are many possible solutions; we'll add a simple `Edge` data structure to populate `Scalar.prevs` with."
   ]
  },
  {
   "cell_type": "code",
   "execution_count": 4,
   "metadata": {},
   "outputs": [],
   "source": [
    "from collections import namedtuple\n",
    "\n",
    "\n",
    "Edge = namedtuple(\"Edge\", [\"prev\", \"local_grad\"])"
   ]
  },
  {
   "cell_type": "markdown",
   "metadata": {},
   "source": [
    "`Edge` is a `namedtuple`, which is just a fancy way of implementing a simple class with the attributes `prev` and `local_grad`."
   ]
  },
  {
   "cell_type": "code",
   "execution_count": 5,
   "metadata": {},
   "outputs": [],
   "source": [
    "a = Scalar(1)\n",
    "e = Edge(prev=a, local_grad=42)"
   ]
  },
  {
   "cell_type": "code",
   "execution_count": 6,
   "metadata": {},
   "outputs": [
    {
     "data": {
      "text/plain": [
       "Scalar(1)"
      ]
     },
     "execution_count": 6,
     "metadata": {},
     "output_type": "execute_result"
    }
   ],
   "source": [
    "e.prev"
   ]
  },
  {
   "cell_type": "code",
   "execution_count": 7,
   "metadata": {},
   "outputs": [
    {
     "data": {
      "text/plain": [
       "42"
      ]
     },
     "execution_count": 7,
     "metadata": {},
     "output_type": "execute_result"
    }
   ],
   "source": [
    "e.local_grad"
   ]
  },
  {
   "cell_type": "markdown",
   "metadata": {},
   "source": [
    "From now on, the `Scalar.prevs` attribute will be populated with `Edge` objects. So, we have to modify the operations accordingly. For instance, let's take a look at addition function $ +(x_1, x_2) = x_1 + x_2 $. With this slightly unusual notation, the local derivatives are\n",
    "\n",
    "$$\n",
    "\\frac{\\partial +}{\\partial x_1} = \\frac{\\partial +}{\\partial x_2} = 1.\n",
    "$$\n",
    "\n",
    "Thus, the `Scalar` defined by `x1 + x2` will have two `Edge` objects in its `prevs` attribute: `Edge(x1, 1)` and `Edge(x2, 1)`. This is how it's done."
   ]
  },
  {
   "cell_type": "code",
   "execution_count": 8,
   "metadata": {},
   "outputs": [],
   "source": [
    "class Scalar(Scalar):\n",
    "    # ...\n",
    "\n",
    "    def __add__(self, other):\n",
    "        if not isinstance(other, Scalar):\n",
    "            other = Scalar(other)\n",
    "\n",
    "        return Scalar(\n",
    "            value=self.value + other.value,\n",
    "            prevs=[Edge(self, 1), Edge(other, 1)],\n",
    "        )\n",
    "\n",
    "    # ...    "
   ]
  },
  {
   "cell_type": "markdown",
   "metadata": {},
   "source": [
    "Can you figure out the rest of the operations? Give this exercise a try. Here, let me provide a template; the rest is up to you. Implement `__mul__`, `__truediv__`, and `__pow__` so that it keeps track of all the incoming edges during the operations.\n",
    "\n",
    "(You can use Python's `math.log` function from the built-in `math` module.)"
   ]
  },
  {
   "cell_type": "code",
   "execution_count": 9,
   "metadata": {},
   "outputs": [],
   "source": [
    "import math\n",
    "\n",
    "\n",
    "class Scalar(Scalar):\n",
    "    def __add__(self, other):\n",
    "        if not isinstance(other, Scalar):\n",
    "            other = Scalar(other)\n",
    "\n",
    "        return Scalar(\n",
    "            value=self.value + other.value,\n",
    "            prevs=[Edge(self, 1), Edge(other, 1)],\n",
    "        )\n",
    "\n",
    "    # implement these methods along the lines of __add__:    \n",
    "    def __mul__(self, other):\n",
    "        pass\n",
    "\n",
    "    def __truediv__(self, other):\n",
    "        pass\n",
    "\n",
    "    def __pow__(self, exponent):\n",
    "        pass\n",
    "\n",
    "    # auxiliary operations\n",
    "    def __radd__(self, other):\n",
    "        return self + other\n",
    "\n",
    "    def __sub__(self, other):\n",
    "        return self + (-other)\n",
    "\n",
    "    def __rsub__(self, other):\n",
    "        return other + (-self)\n",
    "\n",
    "    def __rmul__(self, other):\n",
    "        return self * other\n",
    "\n",
    "    def __neg__(self):\n",
    "        return (-1) * self\n",
    "\n",
    "    def __rtruediv__(self, other):\n",
    "        if not isinstance(other, Scalar):\n",
    "            other = Scalar(other)\n",
    "\n",
    "        return other / self"
   ]
  },
  {
   "cell_type": "markdown",
   "metadata": {},
   "source": [
    "Ready? Compare your solution to `mlfz`'s implementation:"
   ]
  },
  {
   "cell_type": "code",
   "execution_count": 10,
   "metadata": {
    "tags": [
     "hide-input"
    ]
   },
   "outputs": [],
   "source": [
    "class Scalar(Scalar):\n",
    "    def __add__(self, other):\n",
    "        if not isinstance(other, Scalar):\n",
    "            other = Scalar(other)\n",
    "\n",
    "        return Scalar(\n",
    "            value=self.value + other.value,\n",
    "            prevs=[Edge(self, 1), Edge(other, 1)],\n",
    "        )\n",
    "\n",
    "    def __mul__(self, other):\n",
    "        if not isinstance(other, Scalar):\n",
    "            other = Scalar(other)\n",
    "\n",
    "        return Scalar(\n",
    "            value=self.value * other.value,\n",
    "            prevs=[Edge(self, other.value), Edge(other, self.value)],\n",
    "        )\n",
    "\n",
    "    def __truediv__(self, other):\n",
    "        if not isinstance(other, Scalar):\n",
    "            other = Scalar(other)\n",
    "\n",
    "        return Scalar(\n",
    "            value=self.value / other.value,\n",
    "            prevs=[\n",
    "                Edge(self, 1 / other.value),\n",
    "                Edge(other, -self.value / other.value**2),\n",
    "            ],\n",
    "        )\n",
    "\n",
    "    def __pow__(self, exponent):\n",
    "        if not isinstance(exponent, Scalar):\n",
    "            exponent = Scalar(exponent)\n",
    "\n",
    "        return Scalar(\n",
    "            value=self.value**exponent.value,\n",
    "            prevs=[\n",
    "                Edge(self, exponent.value * self.value ** (exponent.value - 1)),\n",
    "                Edge(\n",
    "                    exponent,\n",
    "                    math.log(abs(self.value)) * (self.value**exponent.value),\n",
    "                ),\n",
    "            ],\n",
    "        )\n",
    "\n",
    "    def __radd__(self, other):\n",
    "        return self + other\n",
    "\n",
    "    def __sub__(self, other):\n",
    "        return self + (-other)\n",
    "\n",
    "    def __rsub__(self, other):\n",
    "        return other + (-self)\n",
    "\n",
    "    def __rmul__(self, other):\n",
    "        return self * other\n",
    "\n",
    "    def __neg__(self):\n",
    "        return (-1) * self\n",
    "\n",
    "    def __rtruediv__(self, other):\n",
    "        if not isinstance(other, Scalar):\n",
    "            other = Scalar(other)\n",
    "\n",
    "        return other / self"
   ]
  },
  {
   "cell_type": "markdown",
   "metadata": {},
   "source": [
    "Let's test it out."
   ]
  },
  {
   "cell_type": "code",
   "execution_count": 11,
   "metadata": {},
   "outputs": [
    {
     "name": "stdout",
     "output_type": "stream",
     "text": [
      "a = Scalar(2.0), b = Scalar(8.0), c = Scalar(4.0)\n"
     ]
    }
   ],
   "source": [
    "a = Scalar(0.5) + Scalar(1.5)\n",
    "b = a ** Scalar(3)\n",
    "c = b / Scalar(2)\n",
    "\n",
    "print(f\"a = {a}, b = {b}, c = {c}\")"
   ]
  },
  {
   "cell_type": "code",
   "execution_count": 12,
   "metadata": {},
   "outputs": [
    {
     "data": {
      "text/plain": [
       "[Edge(prev=Scalar(8.0), local_grad=0.5), Edge(prev=Scalar(2), local_grad=-2.0)]"
      ]
     },
     "execution_count": 12,
     "metadata": {},
     "output_type": "execute_result"
    }
   ],
   "source": [
    "c.prevs"
   ]
  },
  {
   "cell_type": "code",
   "execution_count": 13,
   "metadata": {},
   "outputs": [
    {
     "data": {
      "text/plain": [
       "[Edge(prev=Scalar(2.0), local_grad=12.0),\n",
       " Edge(prev=Scalar(3), local_grad=5.545177444479562)]"
      ]
     },
     "execution_count": 13,
     "metadata": {},
     "output_type": "execute_result"
    }
   ],
   "source": [
    "b.prevs"
   ]
  },
  {
   "cell_type": "code",
   "execution_count": 14,
   "metadata": {},
   "outputs": [
    {
     "data": {
      "text/plain": [
       "[Edge(prev=Scalar(0.5), local_grad=1), Edge(prev=Scalar(1.5), local_grad=1)]"
      ]
     },
     "execution_count": 14,
     "metadata": {},
     "output_type": "execute_result"
    }
   ],
   "source": [
    "a.prevs"
   ]
  },
  {
   "cell_type": "markdown",
   "metadata": {},
   "source": [
    "Awesome! Now, we are ready to take the first step *backwards*, and propagate the derivatives back to the previous nodes."
   ]
  },
  {
   "cell_type": "markdown",
   "metadata": {},
   "source": [
    "## A step backwards\n",
    "\n",
    "Recall our pseudo-algorithm for backpropagation:\n",
    "\n",
    "```\n",
    "for v in nodes:\n",
    "    # the backward step for v\n",
    "    for prev, local_grad in v.prevs:\n",
    "        prev.backwards_grad += v.backwards_grad * local_grad\n",
    "```\n",
    "\n",
    "In English:\n",
    "* the outer loop iterates through all the nodes,  \n",
    "* while the inner loop represents a single backward step.  \n",
    "\n",
    "Although the order of nodes to visit is unclear, notice that the inner part is not pseudocode anymore!"
   ]
  },
  {
   "cell_type": "code",
   "execution_count": 15,
   "metadata": {},
   "outputs": [],
   "source": [
    "class Scalar(Scalar):\n",
    "    # ...\n",
    "    \n",
    "    def _backward_step(self):\n",
    "        for prev, local_grad in self.prevs:\n",
    "            prev.backwards_grad += local_grad * self.backwards_grad\n",
    "\n",
    "    # ..."
   ]
  },
  {
   "cell_type": "markdown",
   "metadata": {},
   "source": [
    "(We prefix the backward step with an underscore to indicate that it is not supposed to be called from the outside.)"
   ]
  },
  {
   "cell_type": "markdown",
   "metadata": {},
   "source": [
    "Let's test it out."
   ]
  },
  {
   "cell_type": "code",
   "execution_count": 16,
   "metadata": {},
   "outputs": [],
   "source": [
    "a = Scalar(2)\n",
    "b = Scalar(3)\n",
    "c = a * b"
   ]
  },
  {
   "cell_type": "code",
   "execution_count": 17,
   "metadata": {},
   "outputs": [],
   "source": [
    "# setting the backwards grad\n",
    "# (this'll be done automatically)\n",
    "\n",
    "c.backwards_grad = 4\n",
    "c._backward_step()"
   ]
  },
  {
   "cell_type": "markdown",
   "metadata": {},
   "source": [
    "`a.backwards_grad` should be 12, while `b.backwards_grad` should be 8."
   ]
  },
  {
   "cell_type": "code",
   "execution_count": 18,
   "metadata": {},
   "outputs": [
    {
     "data": {
      "text/plain": [
       "True"
      ]
     },
     "execution_count": 18,
     "metadata": {},
     "output_type": "execute_result"
    }
   ],
   "source": [
    "a.backwards_grad == 12"
   ]
  },
  {
   "cell_type": "code",
   "execution_count": 19,
   "metadata": {},
   "outputs": [
    {
     "data": {
      "text/plain": [
       "True"
      ]
     },
     "execution_count": 19,
     "metadata": {},
     "output_type": "execute_result"
    }
   ],
   "source": [
    "b.backwards_grad == 8"
   ]
  },
  {
   "cell_type": "markdown",
   "metadata": {},
   "source": [
    "Now, we are ready to connect the dots by doing the entire *backward pass*, involving all nodes. But how?"
   ]
  },
  {
   "cell_type": "markdown",
   "metadata": {},
   "source": [
    "## All the steps backwards\n",
    "\n",
    "Let's take a look at where we stand. There is only one pseudo-part in our pseudo-algorithm:\n",
    "\n",
    "```\n",
    "for v in nodes:\n",
    "    v._backward_step()\n",
    "```\n",
    "\n",
    "What is the `nodes` iterable? Let's figure this out."
   ]
  },
  {
   "cell_type": "markdown",
   "metadata": {},
   "source": [
    "### The reversed topological ordering\n",
    "\n",
    "When implementing the backward step, we have made a hidden assumption: when we call `v._backward_step()`, we assume that the backwards derivative `v.backwards_grad` is already computed. As `v` receives gradient updates from all of its children, we have to make sure that they are visited previously. So, the order of nodes matters.\n",
    "\n",
    "This is satisfied by the so-called *reversed topological ordering*. Here's the mathematical definition.\n",
    "\n",
    "````{prf:definition} Topological ordering of directed graphs.\n",
    "\n",
    "Let $ G = (V, E) $ a directed graph.\n",
    "\n",
    "(i) We say that $ V = {v_1, v_2, \\dots, v_n} $ is in *topological order*, if for any $ (v_i, v_j) \\in E $, $ i < j $ holds.  \n",
    "(ii) We say that $ V = {v_1, v_2, \\dots, v_n} $ is in *reverse topological order*, if for any $ (v_i, v_j) \\in E $, $ j < i $ holds.  \n",
    "````\n",
    "\n",
    "Let's see an example. For the sake of simplicity, we'll go with the computational graph given by the expression `sigmoid(a * x + b) + a`. With the intermediary variables\n",
    "\n",
    "* `c = a * x`,  \n",
    "* `d = a * x + b` (which is `d = c + b`),  \n",
    "* `e = sigmoid(a * x + b)` (which is `e = sigmoid(d)`),\n",
    "* and `y = sigmoid(a * x + b) + a` (which is `y = e + a`),\n",
    "\n",
    "we have the following graph."
   ]
  },
  {
   "cell_type": "code",
   "execution_count": 20,
   "metadata": {
    "tags": [
     "remove-input"
    ]
   },
   "outputs": [
    {
     "data": {
      "image/svg+xml": [
       "<?xml version=\"1.0\" encoding=\"UTF-8\" standalone=\"no\"?>\n",
       "<!DOCTYPE svg PUBLIC \"-//W3C//DTD SVG 1.1//EN\"\n",
       " \"http://www.w3.org/Graphics/SVG/1.1/DTD/svg11.dtd\">\n",
       "<!-- Generated by graphviz version 2.43.0 (0)\n",
       " -->\n",
       "<!-- Title: %3 Pages: 1 -->\n",
       "<svg width=\"161pt\" height=\"332pt\"\n",
       " viewBox=\"0.00 0.00 161.00 332.00\" xmlns=\"http://www.w3.org/2000/svg\" xmlns:xlink=\"http://www.w3.org/1999/xlink\">\n",
       "<g id=\"graph0\" class=\"graph\" transform=\"scale(1 1) rotate(0) translate(4 328)\">\n",
       "<title>%3</title>\n",
       "<polygon fill=\"white\" stroke=\"transparent\" points=\"-4,4 -4,-328 157,-328 157,4 -4,4\"/>\n",
       "<!-- a -->\n",
       "<g id=\"node1\" class=\"node\">\n",
       "<title>a</title>\n",
       "<ellipse fill=\"none\" stroke=\"black\" cx=\"126\" cy=\"-306\" rx=\"27\" ry=\"18\"/>\n",
       "<text text-anchor=\"middle\" x=\"126\" y=\"-302.3\" font-family=\"Times,serif\" font-size=\"14.00\">a</text>\n",
       "</g>\n",
       "<!-- c -->\n",
       "<g id=\"node4\" class=\"node\">\n",
       "<title>c</title>\n",
       "<ellipse fill=\"none\" stroke=\"black\" cx=\"27\" cy=\"-234\" rx=\"27\" ry=\"18\"/>\n",
       "<text text-anchor=\"middle\" x=\"27\" y=\"-230.3\" font-family=\"Times,serif\" font-size=\"14.00\">c</text>\n",
       "</g>\n",
       "<!-- a&#45;&gt;c -->\n",
       "<g id=\"edge1\" class=\"edge\">\n",
       "<title>a&#45;&gt;c</title>\n",
       "<path fill=\"none\" stroke=\"black\" d=\"M107.84,-292.16C92.63,-281.41 70.71,-265.91 53.53,-253.76\"/>\n",
       "<polygon fill=\"black\" stroke=\"black\" points=\"55.23,-250.67 45.04,-247.76 51.19,-256.39 55.23,-250.67\"/>\n",
       "</g>\n",
       "<!-- y -->\n",
       "<g id=\"node7\" class=\"node\">\n",
       "<title>y</title>\n",
       "<ellipse fill=\"none\" stroke=\"black\" cx=\"126\" cy=\"-18\" rx=\"27\" ry=\"18\"/>\n",
       "<text text-anchor=\"middle\" x=\"126\" y=\"-14.3\" font-family=\"Times,serif\" font-size=\"14.00\">y</text>\n",
       "</g>\n",
       "<!-- a&#45;&gt;y -->\n",
       "<g id=\"edge6\" class=\"edge\">\n",
       "<title>a&#45;&gt;y</title>\n",
       "<path fill=\"none\" stroke=\"black\" d=\"M129.65,-287.91C131.68,-277.57 133.98,-264.09 135,-252 141.72,-172.28 141.72,-151.72 135,-72 134.28,-63.5 132.93,-54.31 131.49,-46.01\"/>\n",
       "<polygon fill=\"black\" stroke=\"black\" points=\"134.91,-45.29 129.65,-36.09 128.03,-46.56 134.91,-45.29\"/>\n",
       "</g>\n",
       "<!-- b -->\n",
       "<g id=\"node2\" class=\"node\">\n",
       "<title>b</title>\n",
       "<ellipse fill=\"none\" stroke=\"black\" cx=\"99\" cy=\"-234\" rx=\"27\" ry=\"18\"/>\n",
       "<text text-anchor=\"middle\" x=\"99\" y=\"-230.3\" font-family=\"Times,serif\" font-size=\"14.00\">b</text>\n",
       "</g>\n",
       "<!-- d -->\n",
       "<g id=\"node5\" class=\"node\">\n",
       "<title>d</title>\n",
       "<ellipse fill=\"none\" stroke=\"black\" cx=\"99\" cy=\"-162\" rx=\"27\" ry=\"18\"/>\n",
       "<text text-anchor=\"middle\" x=\"99\" y=\"-158.3\" font-family=\"Times,serif\" font-size=\"14.00\">d</text>\n",
       "</g>\n",
       "<!-- b&#45;&gt;d -->\n",
       "<g id=\"edge4\" class=\"edge\">\n",
       "<title>b&#45;&gt;d</title>\n",
       "<path fill=\"none\" stroke=\"black\" d=\"M99,-215.7C99,-207.98 99,-198.71 99,-190.11\"/>\n",
       "<polygon fill=\"black\" stroke=\"black\" points=\"102.5,-190.1 99,-180.1 95.5,-190.1 102.5,-190.1\"/>\n",
       "</g>\n",
       "<!-- x -->\n",
       "<g id=\"node3\" class=\"node\">\n",
       "<title>x</title>\n",
       "<ellipse fill=\"none\" stroke=\"black\" cx=\"27\" cy=\"-306\" rx=\"27\" ry=\"18\"/>\n",
       "<text text-anchor=\"middle\" x=\"27\" y=\"-302.3\" font-family=\"Times,serif\" font-size=\"14.00\">x</text>\n",
       "</g>\n",
       "<!-- x&#45;&gt;c -->\n",
       "<g id=\"edge2\" class=\"edge\">\n",
       "<title>x&#45;&gt;c</title>\n",
       "<path fill=\"none\" stroke=\"black\" d=\"M27,-287.7C27,-279.98 27,-270.71 27,-262.11\"/>\n",
       "<polygon fill=\"black\" stroke=\"black\" points=\"30.5,-262.1 27,-252.1 23.5,-262.1 30.5,-262.1\"/>\n",
       "</g>\n",
       "<!-- c&#45;&gt;d -->\n",
       "<g id=\"edge3\" class=\"edge\">\n",
       "<title>c&#45;&gt;d</title>\n",
       "<path fill=\"none\" stroke=\"black\" d=\"M41.57,-218.83C51.75,-208.94 65.52,-195.55 77.03,-184.36\"/>\n",
       "<polygon fill=\"black\" stroke=\"black\" points=\"79.47,-186.87 84.2,-177.38 74.59,-181.85 79.47,-186.87\"/>\n",
       "</g>\n",
       "<!-- e -->\n",
       "<g id=\"node6\" class=\"node\">\n",
       "<title>e</title>\n",
       "<ellipse fill=\"none\" stroke=\"black\" cx=\"99\" cy=\"-90\" rx=\"27\" ry=\"18\"/>\n",
       "<text text-anchor=\"middle\" x=\"99\" y=\"-86.3\" font-family=\"Times,serif\" font-size=\"14.00\">e</text>\n",
       "</g>\n",
       "<!-- d&#45;&gt;e -->\n",
       "<g id=\"edge5\" class=\"edge\">\n",
       "<title>d&#45;&gt;e</title>\n",
       "<path fill=\"none\" stroke=\"black\" d=\"M99,-143.7C99,-135.98 99,-126.71 99,-118.11\"/>\n",
       "<polygon fill=\"black\" stroke=\"black\" points=\"102.5,-118.1 99,-108.1 95.5,-118.1 102.5,-118.1\"/>\n",
       "</g>\n",
       "<!-- e&#45;&gt;y -->\n",
       "<g id=\"edge7\" class=\"edge\">\n",
       "<title>e&#45;&gt;y</title>\n",
       "<path fill=\"none\" stroke=\"black\" d=\"M105.4,-72.41C108.51,-64.34 112.33,-54.43 115.83,-45.35\"/>\n",
       "<polygon fill=\"black\" stroke=\"black\" points=\"119.13,-46.55 119.46,-35.96 112.6,-44.03 119.13,-46.55\"/>\n",
       "</g>\n",
       "</g>\n",
       "</svg>\n"
      ],
      "text/plain": [
       "<graphviz.graphs.Digraph at 0x7c7077027ec0>"
      ]
     },
     "execution_count": 20,
     "metadata": {},
     "output_type": "execute_result"
    }
   ],
   "source": [
    "from graphviz import Digraph\n",
    "\n",
    "digraph = Digraph()\n",
    "nodes = [\"a\", \"b\", \"x\", \"c\", \"d\", \"e\", \"y\"]\n",
    "\n",
    "for v in nodes:\n",
    "    digraph.node(v, v)\n",
    "\n",
    "digraph.edges([\"ac\", \"xc\", \"cd\", \"bd\", \"de\", \"ay\", \"ey\"])\n",
    "\n",
    "digraph"
   ]
  },
  {
   "cell_type": "markdown",
   "metadata": {},
   "source": [
    "To compute $ \\frac{dy}{da} $, we employ the chain rule, telling us that\n",
    "\n",
    "$$\n",
    "\\frac{dy}{da} = \\frac{dy}{dc} \\frac{\\partial c}{\\partial a} + \\frac{dy}{dy}\\frac{\\partial y}{\\partial a}.\n",
    "$$\n",
    "\n",
    "In other words, $ \\frac{dy}{dc} $ must be computed before $ \\frac{dy}{da} $. Here, a correct reverse topological ordering would be `[y, e, d, b, c, a, x]`.\n",
    "\n",
    "How to find the reversed topological ordering of our computational graphs? You know, the ones that are defined via the `Scalar` objects. Here's a possible implementation."
   ]
  },
  {
   "cell_type": "code",
   "execution_count": 21,
   "metadata": {},
   "outputs": [],
   "source": [
    "class Scalar(Scalar):   \n",
    "    # ...\n",
    "\n",
    "    def _get_graph(self):\n",
    "        ordered_scalars = []\n",
    "        visited_scalars = set()\n",
    "\n",
    "        def traverse_graph(x):\n",
    "            if x not in visited_scalars:\n",
    "                visited_scalars.add(x)\n",
    "\n",
    "                for prev, _ in x.prevs:\n",
    "                    traverse_graph(prev)\n",
    "\n",
    "                ordered_scalars.append(x)\n",
    "\n",
    "        traverse_graph(self)\n",
    "\n",
    "        return ordered_scalars\n",
    "    \n",
    "    # ..."
   ]
  },
  {
   "cell_type": "markdown",
   "metadata": {},
   "source": [
    "In English, the `Scalar._get_graph` method recursively travels the computational graph. Check out the `traverse_graph` function that is called for each node: it appends the input node to the `ordered_scalars` list only when all of its parents are traversed. This way, the topological order is preserved; thus, `ordered_scalars` contains a topologically ordered list of all `Scalar` nodes.\n",
    "\n",
    "So, here's our (not so) pseudo-backpropagation:\n",
    "\n",
    "```\n",
    "for v in reversed(y._get_graph()):\n",
    "    v._backward_step()\n",
    "```\n",
    "\n",
    "(Where `y` is the terminal node of our graph, and `reversed` is a built-in tool of Python that reverses iterators.)\n",
    "\n",
    "Let's not waste any more time and implement this right away!"
   ]
  },
  {
   "cell_type": "markdown",
   "metadata": {},
   "source": [
    "### Completing the backward pass\n",
    "\n",
    "We are almost done; in fact, we have all the pieces ready. Let's combine the `Scalar._backward_step` and `Scalar._get_graph` methods together in the `Scalar.backward`.\n",
    "\n",
    "(One small modification to `_get_graph`: we add an option to zero out the backward derivatives. This is needed to make sure our computations don't overflow into the subsequent passes.)"
   ]
  },
  {
   "cell_type": "code",
   "execution_count": 22,
   "metadata": {},
   "outputs": [],
   "source": [
    "class Scalar(Scalar):\n",
    "    # ...\n",
    "\n",
    "    def _backward_step(self):\n",
    "        for prev, local_grad in self.prevs:\n",
    "            prev.backwards_grad += local_grad * self.backwards_grad\n",
    "\n",
    "    def _get_graph(self, zero_grad=False):\n",
    "        ordered_scalars = []\n",
    "        visited_scalars = set()\n",
    "\n",
    "        def traverse_graph(x):\n",
    "            if x not in visited_scalars:\n",
    "                visited_scalars.add(x)\n",
    "\n",
    "                if zero_grad:\n",
    "                    x.backwards_grad = 0\n",
    "\n",
    "                for prev, _ in x.prevs:\n",
    "                    traverse_graph(prev)\n",
    "\n",
    "                ordered_scalars.append(x)\n",
    "\n",
    "        traverse_graph(self)\n",
    "\n",
    "        return ordered_scalars\n",
    "\n",
    "    def backward(self):\n",
    "        ordered_scalars = self._get_graph(zero_grad=True)\n",
    "\n",
    "        self.backwards_grad = 1\n",
    "\n",
    "        for scalar in reversed(ordered_scalars):\n",
    "            scalar._backward_step()\n",
    "\n",
    "    # ..."
   ]
  },
  {
   "cell_type": "markdown",
   "metadata": {},
   "source": [
    "The `Scalar.backwards` method does as what we stated in our pseudoalgorithm, with setting the backwards gradient to one. (Recall that the default value of `Scalar.backwards_grad` is `0`, but the global derivative of a node with respect to itself is `1`.)"
   ]
  },
  {
   "cell_type": "markdown",
   "metadata": {},
   "source": [
    "## Backpropagation in action\n",
    "\n",
    "We've finally implemented backpropagation, the soul of computational graphs. It's time to see it in practice.\n",
    "\n",
    "Let's stick with the simplest possible example: a linear model, for instance, $ y = 2 x - 1 $. It's easy to see that $ \\frac{dy}{dx} = 2 $, so let's check if that's indeed the case."
   ]
  },
  {
   "cell_type": "code",
   "execution_count": 23,
   "metadata": {},
   "outputs": [],
   "source": [
    "a = Scalar(2)\n",
    "b = Scalar(-1)\n",
    "\n",
    "\n",
    "def linear(x: Scalar):\n",
    "    return a*x + b"
   ]
  },
  {
   "cell_type": "code",
   "execution_count": 24,
   "metadata": {},
   "outputs": [],
   "source": [
    "x = Scalar(42)\n",
    "y = linear(x)"
   ]
  },
  {
   "cell_type": "code",
   "execution_count": 25,
   "metadata": {},
   "outputs": [],
   "source": [
    "y.backward()"
   ]
  },
  {
   "cell_type": "markdown",
   "metadata": {},
   "source": [
    "`Scalar.backward` runs without error, so we're halfway there. What are the results?"
   ]
  },
  {
   "cell_type": "code",
   "execution_count": 26,
   "metadata": {},
   "outputs": [
    {
     "data": {
      "text/plain": [
       "1"
      ]
     },
     "execution_count": 26,
     "metadata": {},
     "output_type": "execute_result"
    }
   ],
   "source": [
    "y.backwards_grad"
   ]
  },
  {
   "cell_type": "code",
   "execution_count": 27,
   "metadata": {},
   "outputs": [
    {
     "data": {
      "text/plain": [
       "2"
      ]
     },
     "execution_count": 27,
     "metadata": {},
     "output_type": "execute_result"
    }
   ],
   "source": [
    "x.backwards_grad"
   ]
  },
  {
   "cell_type": "markdown",
   "metadata": {},
   "source": [
    "Just as we expected! Let's check if it works for other inputs."
   ]
  },
  {
   "cell_type": "code",
   "execution_count": 28,
   "metadata": {},
   "outputs": [],
   "source": [
    "import numpy as np\n",
    "\n",
    "\n",
    "xs = [Scalar(x) for x  in np.linspace(-10, 10, 1000)]\n",
    "dydxs = [x.backwards_grad for x in xs if linear(x).backward() or 1]"
   ]
  },
  {
   "cell_type": "code",
   "execution_count": 29,
   "metadata": {},
   "outputs": [
    {
     "data": {
      "text/plain": [
       "np.True_"
      ]
     },
     "execution_count": 29,
     "metadata": {},
     "output_type": "execute_result"
    }
   ],
   "source": [
    "np.all([dydx == 2 for dydx in dydxs])"
   ]
  },
  {
   "cell_type": "markdown",
   "metadata": {},
   "source": [
    "Awesome! Let's move on to a harder example."
   ]
  },
  {
   "cell_type": "markdown",
   "metadata": {},
   "source": [
    "### Verifying backpropagation\n",
    "\n",
    "Now that we have all our ducks in a row, let's use a more complex computational graph to check if our implementation indeed works. Moving on from linear models, we'll use the previously seen `sigmoid(a * x + b) + a`.\n",
    "\n",
    "The `Scalar` interface have changed quite a lot since {ref}`the last time we implemented functions <section:computational-graphs/forward-pass/functions>`, so let's revisit the sigmoid. Here's the vanilla version."
   ]
  },
  {
   "cell_type": "code",
   "execution_count": 30,
   "metadata": {},
   "outputs": [],
   "source": [
    "def _sigmoid(x):\n",
    "    return 1/(1 + np.exp(-x))\n",
    "\n",
    "def _sigmoid_prime(x):\n",
    "    return _sigmoid(x) * (1 - _sigmoid(x))"
   ]
  },
  {
   "cell_type": "markdown",
   "metadata": {},
   "source": [
    "Let's scalarize this."
   ]
  },
  {
   "cell_type": "code",
   "execution_count": 31,
   "metadata": {},
   "outputs": [],
   "source": [
    "def sigmoid(x: Scalar) -> Scalar:\n",
    "    return Scalar(\n",
    "        value=_sigmoid(x.value),\n",
    "        prevs=[Edge(x, _sigmoid_prime(x.value))]\n",
    "    )"
   ]
  },
  {
   "cell_type": "markdown",
   "metadata": {},
   "source": [
    "Now, we are ready for `sigmoid(a * x + b) + a`."
   ]
  },
  {
   "cell_type": "code",
   "execution_count": 32,
   "metadata": {},
   "outputs": [],
   "source": [
    "a = Scalar(2)\n",
    "b = Scalar(-1)\n",
    "\n",
    "def f(x):\n",
    "    return sigmoid(a * x + b) + a"
   ]
  },
  {
   "cell_type": "markdown",
   "metadata": {},
   "source": [
    "You can verify by hand that the derivative of $ f $ is\n",
    "\n",
    "$$\n",
    "\\begin{align*}\n",
    "\\frac{df}{dx} &= a \\sigma^\\prime(a x + b) \\\\\n",
    "&= a \\sigma(ax + b) \\big(1 + \\sigma(ax + b) \\big),\n",
    "\\end{align*}\n",
    "$$\n",
    "\n",
    "so let's plot this side-by-side with the result of backpropagation."
   ]
  },
  {
   "cell_type": "code",
   "execution_count": 33,
   "metadata": {},
   "outputs": [],
   "source": [
    "def f_prime(x):\n",
    "    return a.value * _sigmoid_prime(a.value * x + b.value)"
   ]
  },
  {
   "cell_type": "code",
   "execution_count": 34,
   "metadata": {},
   "outputs": [],
   "source": [
    "xs_np = np.linspace(-5, 5, 1000)\n",
    "xs = [Scalar(x) for x  in xs_np]\n",
    "\n",
    "dydxs = [x.backwards_grad for x in xs if f(x).backward() or 1]\n",
    "dydxs_np = f_prime(xs_np)"
   ]
  },
  {
   "cell_type": "code",
   "execution_count": 35,
   "metadata": {
    "tags": [
     "hide-input"
    ]
   },
   "outputs": [
    {
     "data": {
      "image/png": "[encoded data removed]",
      "text/plain": [
       "<Figure size 1000x400 with 2 Axes>"
      ]
     },
     "metadata": {},
     "output_type": "display_data"
    }
   ],
   "source": [
    "import matplotlib.pyplot as plt\n",
    "\n",
    "\n",
    "with plt.style.context(\"seaborn-v0_8-white\"):\n",
    "    fig, axs = plt.subplots(1, 2, figsize=(10, 4))\n",
    "\n",
    "    axs[0].plot(xs_np, dydxs)\n",
    "    axs[0].set_title('backpropagation')\n",
    "\n",
    "    axs[1].plot(xs_np, dydxs_np)\n",
    "    axs[1].set_title('hand-crafted derivative')\n",
    "\n",
    "    plt.tight_layout()\n",
    "    plt.show()"
   ]
  },
  {
   "cell_type": "markdown",
   "metadata": {},
   "source": [
    "We happy, Vincent? We happy."
   ]
  },
  {
   "cell_type": "markdown",
   "metadata": {},
   "source": [
    "(section:scalar/backward-pass-practice/finite-diff)=\n",
    "### Verification via finite differences"
   ]
  },
  {
   "cell_type": "markdown",
   "metadata": {},
   "source": [
    "I hate to break it to you, but a side-by-side plot is not enough to convince me of correctness. Sure, it's a great indication that we are on the right track, but it's far from adequate.\n",
    "\n",
    "We need actual tests to see if the backpropagation is implemented correctly. One method is to compute the derivative via finite differences: if $ f $ is a differentiable function and $ h > 0 $ is a number small enough, then\n",
    "\n",
    "$$\n",
    "f^\\prime(x) \\approx \\frac{f(x + h) - f(x - h)}{2h}.\n",
    "$$\n",
    "\n",
    "This way, we can numerically estimate the derivative, and check if the results of backpropagation are close or not. We'll use the example from the previous section."
   ]
  },
  {
   "cell_type": "code",
   "execution_count": 36,
   "metadata": {},
   "outputs": [],
   "source": [
    "a = Scalar(2)\n",
    "b = Scalar(-1)\n",
    "\n",
    "def f(x):\n",
    "    return sigmoid(a * x + b) + a"
   ]
  },
  {
   "cell_type": "markdown",
   "metadata": {},
   "source": [
    "Computing the finite differences is quite straightforward."
   ]
  },
  {
   "cell_type": "code",
   "execution_count": 37,
   "metadata": {},
   "outputs": [],
   "source": [
    "def finite_diff(f, x, h=1e-8):\n",
    "    result = (f(x + h) - f(x - h))/(2*h)\n",
    "    return result"
   ]
  },
  {
   "cell_type": "code",
   "execution_count": 38,
   "metadata": {},
   "outputs": [],
   "source": [
    "xs = [Scalar(x) for x in np.linspace(-10, 10, 1000)]\n",
    "diffs_fd = [finite_diff(f, x, h=1e-4).value for x in xs]"
   ]
  },
  {
   "cell_type": "markdown",
   "metadata": {},
   "source": [
    "Here are the results of backpropagation as well."
   ]
  },
  {
   "cell_type": "code",
   "execution_count": 40,
   "metadata": {},
   "outputs": [],
   "source": [
    "diffs_bw = [x.backwards_grad for x in xs if f(x).backward() or 1]"
   ]
  },
  {
   "cell_type": "markdown",
   "metadata": {},
   "source": [
    "(To compute the derivatives with backpropagation, I have used the `f(x).backward() or 1` hack to perform the backward pass before adding `x.backwards_grad` to the list. The expression `f(x).backward() or 1` is always true, but Python always evaluates `f(x).backward()` as well. This trick is good to have in your toolbox.)\n",
    "\n",
    "Do the results match?"
   ]
  },
  {
   "cell_type": "code",
   "execution_count": 43,
   "metadata": {},
   "outputs": [
    {
     "data": {
      "text/plain": [
       "True"
      ]
     },
     "execution_count": 43,
     "metadata": {},
     "output_type": "execute_result"
    }
   ],
   "source": [
    "np.allclose(diffs_fd, diffs_bw)"
   ]
  },
  {
   "cell_type": "markdown",
   "metadata": {},
   "source": [
    "Yes! We can relax now, our work is correct.\n",
    "\n",
    "At this point, you are wondering why are we not using finite differences instead of backpropagation. I give you one: notice that the expression\n",
    "\n",
    "$$\n",
    "\\frac{f(x + h) - f(x - h)}{2h}\n",
    "$$\n",
    "\n",
    "requires two forward passes, $ f(x + h) $ and $ f(x - h)$. For $ m $ parameters, we have to compute the finite differences $ m $ times. That's a lot of forward passes. On the other hand, backpropagation requires a single backward pass.\n",
    "\n",
    "There's only one thing missing from `Scalar`. We've gone quite a long way, but we still haven't trained any model. Let's see how it's done in the next chapter!"
   ]
  },
  {
   "cell_type": "markdown",
   "metadata": {},
   "source": []
  }
 ],
 "metadata": {
  "kernelspec": {
   "display_name": "mlfz",
   "language": "python",
   "name": "python3"
  },
  "language_info": {
   "codemirror_mode": {
    "name": "ipython",
    "version": 3
   },
   "file_extension": ".py",
   "mimetype": "text/x-python",
   "name": "python",
   "nbconvert_exporter": "python",
   "pygments_lexer": "ipython3",
   "version": "3.10.12"
  }
 },
 "nbformat": 4,
 "nbformat_minor": 2
}
