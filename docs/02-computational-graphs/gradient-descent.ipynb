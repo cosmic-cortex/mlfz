{
 "cells": [
  {
   "cell_type": "markdown",
   "metadata": {},
   "source": [
    "# Optimizing with gradient descent\n",
    "\n",
    "Our neural network framework is almost complete. The `Scalar` class has almost everything we need. The one thing left to do is to implement gradient descent.\n",
    "\n",
    "Let's recap: our ultimate goal is to find the minima of the loss function $ L $, describing how well the model fits the data. Analytic solutions are rarely possible in optimization theory, so quite often, the best option is (some variant of) gradient descent. According to theory, if the starting point $ x^{(0)} $ and the learning rate $ h $ is <strike>luckily</strike> properly selected, the sequence\n",
    "\n",
    "$$\n",
    "x^{(n + 1)} = x^{(n)} - h f^\\prime(x^{(n)})\n",
    "$$ (eq:computational-graphs/gradient-descent/gradient-update)\n",
    "\n",
    "converges to a local minimum. I know, it feels like black magic, but it works.\n",
    "\n",
    "So far, here's our training loop.\n",
    "\n",
    "```\n",
    "# -- inputs --\n",
    "# model: the machine learning model\n",
    "# xs: training data\n",
    "# ys: the ground truth\n",
    "# n_epochs: the number of iterations\n",
    "# lr: learning rate\n",
    "\n",
    "for _ in range(n_epochs):\n",
    " ys_pred = [model(x) for x in xs]\n",
    " loss = loss_function(ys, ys_pred)\n",
    "\n",
    " loss.backward()\n",
    "\n",
    " for p in model.parameters:\n",
    " p.gradient_update(lr)\n",
    "```\n",
    "\n",
    "Two things are missing from our DIY computational graph framework: the loss function and the gradient update method. Let's get started."
   ]
  },
  {
   "cell_type": "markdown",
   "metadata": {},
   "source": [
    "## Loss functions\n",
    "\n",
    "To train a predictive model, we need to measure how well it fits the data. This is done by the a loss function $ L(\\mathbf{y}_1, \\dots, \\mathbf{y}_N, \\widehat{y}_1, \\dots, \\widehat{y}_N) $, where\n",
    "\n",
    "* $ \\mathbf{x} = (x_1, \\dots, x_N) $ are the training samples (which can be high dimensional vectors as well),\n",
    "* $ \\mathbf{y} = (y_1, \\dots, y_N) $ are the corresponding labels,\n",
    "* $ f $ is our machine learning model,\n",
    "* and $ \\widehat{y}_i $ $ \\widehat{\\mathbf{y}} = (\\widehat{y}_1, \\dots, \\widehat{y}_N) $ are our predictions.\n",
    "\n",
    "For example, the *mean squared error*\n",
    "\n",
    "$$\n",
    "\\mathrm{MSE}(\\widehat{\\mathbf{y}}, \\mathbf{y}) = \\frac{1}{N} \\sum_{i=1}^{N} (\\widehat{y}_i - y_i)^2\n",
    "$$\n",
    "\n",
    "is for regression problems (i.e. when $ y_i \\in \\mathbb{R} $), while the *binary cross-entropy*\n",
    "\n",
    "$$\n",
    "\\mathrm{H}(\\widehat{\\mathbf{y}}, \\mathbf{y}) = \\frac{1}{N} \\sum_{i=1}^{N} y_i \\log \\widehat{y}_i \n",
    "$$\n",
    "\n",
    "is for binary classification problems (i.e. when $ y_i \\in \\{ 0, 1 \\}) $.\n",
    "\n",
    "We'll go with the mean squared error first. Its implementation is quite easy:"
   ]
  },
  {
   "cell_type": "code",
   "execution_count": 2,
   "metadata": {},
   "outputs": [],
   "source": [
    "from typing import List\n",
    "\n",
    "\n",
    "def mean_squared_error(preds: List, ys: List):\n",
    "    return sum([(p - y) ** 2 for p, y in zip(preds, ys)]) / len(preds)"
   ]
  },
  {
   "cell_type": "markdown",
   "metadata": {},
   "source": [
    "Let's generate some data and try a linear model."
   ]
  },
  {
   "cell_type": "code",
   "execution_count": 3,
   "metadata": {},
   "outputs": [],
   "source": [
    "from random import random, normalvariate\n",
    "\n",
    "\n",
    "xs = [random() for _ in range(100)]\n",
    "ys = [0.8*x - 1.2 + normalvariate(0, 0.1) for x in xs]"
   ]
  },
  {
   "cell_type": "markdown",
   "metadata": {},
   "source": [
    "Here's how it looks, in case you are wondering. (It is similar to the dataset we've used to {ref}`illustrate the high-level interface <chapter:computational-graphs/model>` of `Scalars`.)"
   ]
  },
  {
   "cell_type": "code",
   "execution_count": 4,
   "metadata": {
    "tags": [
     "remove-input"
    ]
   },
   "outputs": [
    {
     "data": {
      "image/png": "[encoded data removed]",
      "text/plain": [
       "<Figure size 800x500 with 1 Axes>"
      ]
     },
     "metadata": {},
     "output_type": "display_data"
    }
   ],
   "source": [
    "import matplotlib.pyplot as plt\n",
    "\n",
    "\n",
    "with plt.style.context(\"seaborn-v0_8-white\"):\n",
    "    plt.figure(figsize=(8, 5))\n",
    "    plt.scatter(xs, ys)\n",
    "    plt.xlabel('x')\n",
    "    plt.ylabel('y')\n",
    "    plt.title('a toy dataset for linear regression')\n",
    "    plt.show()"
   ]
  },
  {
   "cell_type": "code",
   "execution_count": 5,
   "metadata": {
    "tags": [
     "hide-input"
    ]
   },
   "outputs": [],
   "source": [
    "import math\n",
    "from collections import namedtuple\n",
    "\n",
    "\n",
    "Edge = namedtuple(\"Edge\", [\"prev\", \"local_grad\"])\n",
    "\n",
    "\n",
    "class Scalar:\n",
    "    def __init__(self, value: float, prevs: List = None):\n",
    "        self.value = value\n",
    "        self.prevs = prevs if prevs is not None else []\n",
    "        self.backwards_grad = 0\n",
    "\n",
    "    def __repr__(self):\n",
    "        return f\"Scalar({self.value})\"\n",
    "\n",
    "    def _backward_step(self):\n",
    "        for prev, local_grad in self.prevs:\n",
    "            prev.backwards_grad += local_grad * self.backwards_grad\n",
    "\n",
    "    def _get_graph(self, zero_grad=False):\n",
    "        ordered_scalars = []\n",
    "        visited_scalars = set()\n",
    "\n",
    "        def traverse_graph(x):\n",
    "            if x not in visited_scalars:\n",
    "                visited_scalars.add(x)\n",
    "\n",
    "                if zero_grad:\n",
    "                    x.backwards_grad = 0\n",
    "\n",
    "                for prev, _ in x.prevs:\n",
    "                    traverse_graph(prev)\n",
    "\n",
    "                ordered_scalars.append(x)\n",
    "\n",
    "        traverse_graph(self)\n",
    "\n",
    "        return ordered_scalars\n",
    "\n",
    "    def _zero_grad(self):\n",
    "        self._get_graph(zero_grad=True)\n",
    "\n",
    "    def backward(self):\n",
    "        ordered_scalars = self._get_graph(zero_grad=True)\n",
    "\n",
    "        self.backwards_grad = 1\n",
    "\n",
    "        for scalar in reversed(ordered_scalars):\n",
    "            scalar._backward_step()\n",
    "\n",
    "    def __add__(self, other):\n",
    "        if not isinstance(other, Scalar):\n",
    "            other = Scalar(other)\n",
    "\n",
    "        return Scalar(\n",
    "            value=self.value + other.value,\n",
    "            prevs=[Edge(self, 1), Edge(other, 1)],\n",
    "        )\n",
    "\n",
    "    def __radd__(self, other):\n",
    "        return self + other\n",
    "\n",
    "    def __sub__(self, other):\n",
    "        return self + (-other)\n",
    "\n",
    "    def __rsub__(self, other):\n",
    "        return other + (-self)\n",
    "\n",
    "    def __mul__(self, other):\n",
    "        if not isinstance(other, Scalar):\n",
    "            other = Scalar(other)\n",
    "\n",
    "        return Scalar(\n",
    "            value=self.value * other.value,\n",
    "            prevs=[Edge(self, other.value), Edge(other, self.value)],\n",
    "        )\n",
    "\n",
    "    def __rmul__(self, other):\n",
    "        return self * other\n",
    "\n",
    "    def __neg__(self):\n",
    "        return (-1) * self\n",
    "\n",
    "    def __truediv__(self, other):\n",
    "        if not isinstance(other, Scalar):\n",
    "            other = Scalar(other)\n",
    "\n",
    "        return Scalar(\n",
    "            value=self.value / other.value,\n",
    "            prevs=[\n",
    "                Edge(self, 1 / other.value),\n",
    "                Edge(other, -self.value / other.value**2),\n",
    "            ],\n",
    "        )\n",
    "\n",
    "    def __rtruediv__(self, other):\n",
    "        if not isinstance(other, Scalar):\n",
    "            other = Scalar(other)\n",
    "\n",
    "        return other / self\n",
    "\n",
    "    def __pow__(self, exponent):\n",
    "        if not isinstance(exponent, Scalar):\n",
    "            exponent = Scalar(exponent)\n",
    "\n",
    "        return Scalar(\n",
    "            value=self.value**exponent.value,\n",
    "            prevs=[\n",
    "                Edge(self, exponent.value * self.value ** (exponent.value - 1)),\n",
    "                Edge(\n",
    "                    exponent,\n",
    "                    math.log(abs(self.value)) * (self.value**exponent.value),\n",
    "                ),\n",
    "            ],\n",
    "        )\n"
   ]
  },
  {
   "cell_type": "markdown",
   "metadata": {},
   "source": [
    "Let's define a model, create the predictions, and then calculate the loss."
   ]
  },
  {
   "cell_type": "code",
   "execution_count": 6,
   "metadata": {},
   "outputs": [],
   "source": [
    "a = Scalar(1)\n",
    "b = Scalar(1)\n",
    "\n",
    "def linear(x):\n",
    "    return a * x + b"
   ]
  },
  {
   "cell_type": "code",
   "execution_count": 7,
   "metadata": {},
   "outputs": [],
   "source": [
    "preds = [linear(x) for x in xs]\n",
    "loss_fn = mean_squared_error(preds, ys)"
   ]
  },
  {
   "cell_type": "code",
   "execution_count": 8,
   "metadata": {},
   "outputs": [
    {
     "data": {
      "text/plain": [
       "Scalar(5.275730103749712)"
      ]
     },
     "execution_count": 8,
     "metadata": {},
     "output_type": "execute_result"
    }
   ],
   "source": [
    "loss_fn"
   ]
  },
  {
   "cell_type": "markdown",
   "metadata": {},
   "source": [
    "As expected, the output of `mean_squared_error` is a `Scalar`; that is, it's part of our computational graph. Here it is in the case of $ N = 3 $. (We can further unravel the graph by expanding $ f(x_i) $, but we won't do that here.)"
   ]
  },
  {
   "cell_type": "code",
   "execution_count": 9,
   "metadata": {
    "tags": [
     "remove-input"
    ]
   },
   "outputs": [
    {
     "data": {
      "image/svg+xml": [
       "<?xml version=\"1.0\" encoding=\"UTF-8\" standalone=\"no\"?>\n",
       "<!DOCTYPE svg PUBLIC \"-//W3C//DTD SVG 1.1//EN\"\n",
       " \"http://www.w3.org/Graphics/SVG/1.1/DTD/svg11.dtd\">\n",
       "<!-- Generated by graphviz version 2.43.0 (0)\n",
       " -->\n",
       "<!-- Title: %3 Pages: 1 -->\n",
       "<svg width=\"440pt\" height=\"188pt\"\n",
       " viewBox=\"0.00 0.00 439.90 188.00\" xmlns=\"http://www.w3.org/2000/svg\" xmlns:xlink=\"http://www.w3.org/1999/xlink\">\n",
       "<g id=\"graph0\" class=\"graph\" transform=\"scale(1 1) rotate(0) translate(4 184)\">\n",
       "<title>%3</title>\n",
       "<polygon fill=\"white\" stroke=\"transparent\" points=\"-4,4 -4,-184 435.9,-184 435.9,4 -4,4\"/>\n",
       "<!-- y₁ -->\n",
       "<g id=\"node1\" class=\"node\">\n",
       "<title>y₁</title>\n",
       "<ellipse fill=\"none\" stroke=\"black\" cx=\"27\" cy=\"-90\" rx=\"27\" ry=\"18\"/>\n",
       "<text text-anchor=\"middle\" x=\"27\" y=\"-86.3\" font-family=\"Times,serif\" font-size=\"14.00\">y₁</text>\n",
       "</g>\n",
       "<!-- loss -->\n",
       "<g id=\"node10\" class=\"node\">\n",
       "<title>loss</title>\n",
       "<ellipse fill=\"none\" stroke=\"black\" cx=\"208\" cy=\"-18\" rx=\"28.7\" ry=\"18\"/>\n",
       "<text text-anchor=\"middle\" x=\"208\" y=\"-14.3\" font-family=\"Times,serif\" font-size=\"14.00\">loss</text>\n",
       "</g>\n",
       "<!-- y₁&#45;&gt;loss -->\n",
       "<g id=\"edge1\" class=\"edge\">\n",
       "<title>y₁&#45;&gt;loss</title>\n",
       "<path fill=\"none\" stroke=\"black\" d=\"M48.18,-78.61C53.01,-76.35 58.15,-74.03 63,-72 100.44,-56.36 144.3,-40.68 173.9,-30.48\"/>\n",
       "<polygon fill=\"black\" stroke=\"black\" points=\"175.04,-33.79 183.37,-27.24 172.77,-27.17 175.04,-33.79\"/>\n",
       "</g>\n",
       "<!-- y₂ -->\n",
       "<g id=\"node2\" class=\"node\">\n",
       "<title>y₂</title>\n",
       "<ellipse fill=\"none\" stroke=\"black\" cx=\"99\" cy=\"-90\" rx=\"27\" ry=\"18\"/>\n",
       "<text text-anchor=\"middle\" x=\"99\" y=\"-86.3\" font-family=\"Times,serif\" font-size=\"14.00\">y₂</text>\n",
       "</g>\n",
       "<!-- y₂&#45;&gt;loss -->\n",
       "<g id=\"edge2\" class=\"edge\">\n",
       "<title>y₂&#45;&gt;loss</title>\n",
       "<path fill=\"none\" stroke=\"black\" d=\"M117.99,-76.81C135.12,-65.8 160.56,-49.47 180.03,-36.97\"/>\n",
       "<polygon fill=\"black\" stroke=\"black\" points=\"181.97,-39.87 188.5,-31.52 178.19,-33.98 181.97,-39.87\"/>\n",
       "</g>\n",
       "<!-- y₃ -->\n",
       "<g id=\"node3\" class=\"node\">\n",
       "<title>y₃</title>\n",
       "<ellipse fill=\"none\" stroke=\"black\" cx=\"171\" cy=\"-90\" rx=\"27\" ry=\"18\"/>\n",
       "<text text-anchor=\"middle\" x=\"171\" y=\"-86.3\" font-family=\"Times,serif\" font-size=\"14.00\">y₃</text>\n",
       "</g>\n",
       "<!-- y₃&#45;&gt;loss -->\n",
       "<g id=\"edge3\" class=\"edge\">\n",
       "<title>y₃&#45;&gt;loss</title>\n",
       "<path fill=\"none\" stroke=\"black\" d=\"M179.58,-72.76C184,-64.4 189.49,-54.02 194.47,-44.61\"/>\n",
       "<polygon fill=\"black\" stroke=\"black\" points=\"197.63,-46.11 199.21,-35.63 191.44,-42.84 197.63,-46.11\"/>\n",
       "</g>\n",
       "<!-- x₁ -->\n",
       "<g id=\"node4\" class=\"node\">\n",
       "<title>x₁</title>\n",
       "<ellipse fill=\"none\" stroke=\"black\" cx=\"246\" cy=\"-162\" rx=\"27\" ry=\"18\"/>\n",
       "<text text-anchor=\"middle\" x=\"246\" y=\"-158.3\" font-family=\"Times,serif\" font-size=\"14.00\">x₁</text>\n",
       "</g>\n",
       "<!-- f(x₁) -->\n",
       "<g id=\"node7\" class=\"node\">\n",
       "<title>f(x₁)</title>\n",
       "<ellipse fill=\"none\" stroke=\"black\" cx=\"246\" cy=\"-90\" rx=\"29.8\" ry=\"18\"/>\n",
       "<text text-anchor=\"middle\" x=\"246\" y=\"-86.3\" font-family=\"Times,serif\" font-size=\"14.00\">f(x₁)</text>\n",
       "</g>\n",
       "<!-- x₁&#45;&gt;f(x₁) -->\n",
       "<g id=\"edge4\" class=\"edge\">\n",
       "<title>x₁&#45;&gt;f(x₁)</title>\n",
       "<path fill=\"none\" stroke=\"black\" d=\"M246,-143.7C246,-135.98 246,-126.71 246,-118.11\"/>\n",
       "<polygon fill=\"black\" stroke=\"black\" points=\"249.5,-118.1 246,-108.1 242.5,-118.1 249.5,-118.1\"/>\n",
       "</g>\n",
       "<!-- x₂ -->\n",
       "<g id=\"node5\" class=\"node\">\n",
       "<title>x₂</title>\n",
       "<ellipse fill=\"none\" stroke=\"black\" cx=\"324\" cy=\"-162\" rx=\"27\" ry=\"18\"/>\n",
       "<text text-anchor=\"middle\" x=\"324\" y=\"-158.3\" font-family=\"Times,serif\" font-size=\"14.00\">x₂</text>\n",
       "</g>\n",
       "<!-- f(x₂) -->\n",
       "<g id=\"node8\" class=\"node\">\n",
       "<title>f(x₂)</title>\n",
       "<ellipse fill=\"none\" stroke=\"black\" cx=\"324\" cy=\"-90\" rx=\"29.8\" ry=\"18\"/>\n",
       "<text text-anchor=\"middle\" x=\"324\" y=\"-86.3\" font-family=\"Times,serif\" font-size=\"14.00\">f(x₂)</text>\n",
       "</g>\n",
       "<!-- x₂&#45;&gt;f(x₂) -->\n",
       "<g id=\"edge5\" class=\"edge\">\n",
       "<title>x₂&#45;&gt;f(x₂)</title>\n",
       "<path fill=\"none\" stroke=\"black\" d=\"M324,-143.7C324,-135.98 324,-126.71 324,-118.11\"/>\n",
       "<polygon fill=\"black\" stroke=\"black\" points=\"327.5,-118.1 324,-108.1 320.5,-118.1 327.5,-118.1\"/>\n",
       "</g>\n",
       "<!-- x₃ -->\n",
       "<g id=\"node6\" class=\"node\">\n",
       "<title>x₃</title>\n",
       "<ellipse fill=\"none\" stroke=\"black\" cx=\"402\" cy=\"-162\" rx=\"27\" ry=\"18\"/>\n",
       "<text text-anchor=\"middle\" x=\"402\" y=\"-158.3\" font-family=\"Times,serif\" font-size=\"14.00\">x₃</text>\n",
       "</g>\n",
       "<!-- f(x₃) -->\n",
       "<g id=\"node9\" class=\"node\">\n",
       "<title>f(x₃)</title>\n",
       "<ellipse fill=\"none\" stroke=\"black\" cx=\"402\" cy=\"-90\" rx=\"29.8\" ry=\"18\"/>\n",
       "<text text-anchor=\"middle\" x=\"402\" y=\"-86.3\" font-family=\"Times,serif\" font-size=\"14.00\">f(x₃)</text>\n",
       "</g>\n",
       "<!-- x₃&#45;&gt;f(x₃) -->\n",
       "<g id=\"edge6\" class=\"edge\">\n",
       "<title>x₃&#45;&gt;f(x₃)</title>\n",
       "<path fill=\"none\" stroke=\"black\" d=\"M402,-143.7C402,-135.98 402,-126.71 402,-118.11\"/>\n",
       "<polygon fill=\"black\" stroke=\"black\" points=\"405.5,-118.1 402,-108.1 398.5,-118.1 405.5,-118.1\"/>\n",
       "</g>\n",
       "<!-- f(x₁)&#45;&gt;loss -->\n",
       "<g id=\"edge7\" class=\"edge\">\n",
       "<title>f(x₁)&#45;&gt;loss</title>\n",
       "<path fill=\"none\" stroke=\"black\" d=\"M237.19,-72.76C232.58,-64.28 226.84,-53.71 221.68,-44.2\"/>\n",
       "<polygon fill=\"black\" stroke=\"black\" points=\"224.61,-42.27 216.77,-35.15 218.46,-45.61 224.61,-42.27\"/>\n",
       "</g>\n",
       "<!-- f(x₂)&#45;&gt;loss -->\n",
       "<g id=\"edge8\" class=\"edge\">\n",
       "<title>f(x₂)&#45;&gt;loss</title>\n",
       "<path fill=\"none\" stroke=\"black\" d=\"M303.53,-76.65C284.94,-65.43 257.35,-48.78 236.59,-36.26\"/>\n",
       "<polygon fill=\"black\" stroke=\"black\" points=\"238.25,-33.17 227.88,-31 234.63,-39.16 238.25,-33.17\"/>\n",
       "</g>\n",
       "<!-- f(x₃)&#45;&gt;loss -->\n",
       "<g id=\"edge9\" class=\"edge\">\n",
       "<title>f(x₃)&#45;&gt;loss</title>\n",
       "<path fill=\"none\" stroke=\"black\" d=\"M378.62,-78.44C373.5,-76.23 368.1,-73.98 363,-72 322.09,-56.12 274.19,-40.13 242.58,-29.93\"/>\n",
       "<polygon fill=\"black\" stroke=\"black\" points=\"243.51,-26.55 232.92,-26.83 241.37,-33.22 243.51,-26.55\"/>\n",
       "</g>\n",
       "</g>\n",
       "</svg>\n"
      ],
      "text/plain": [
       "<graphviz.graphs.Digraph at 0x7ce047f2a270>"
      ]
     },
     "execution_count": 9,
     "metadata": {},
     "output_type": "execute_result"
    }
   ],
   "source": [
    "from graphviz import Digraph\n",
    "\n",
    "digraph = Digraph()\n",
    "nodes = [\"y₁\", \"y₂\", \"y₃\", \"x₁\", \"x₂\", \"x₃\", \"f(x₁)\", \"f(x₂)\", \"f(x₃)\", \"loss\"]\n",
    "edges = [(\"y₁\", \"loss\"), (\"y₂\", \"loss\"), (\"y₃\", \"loss\"),\n",
    "         (\"x₁\", \"f(x₁)\"), (\"x₂\", \"f(x₂)\"), (\"x₃\", \"f(x₃)\"),\n",
    "         (\"f(x₁)\", \"loss\"), (\"f(x₂)\", \"loss\"), (\"f(x₃)\", \"loss\")]\n",
    "\n",
    "for v in nodes:\n",
    "    digraph.node(v, v)\n",
    "\n",
    "for u, v in edges:\n",
    "    digraph.edge(u, v)\n",
    "\n",
    "digraph\n"
   ]
  },
  {
   "cell_type": "markdown",
   "metadata": {},
   "source": [
    "As `loss` is a fully functional `Scalar`, we can use backpropagation to calculate its derivative with respect to parameters."
   ]
  },
  {
   "cell_type": "code",
   "execution_count": 10,
   "metadata": {},
   "outputs": [],
   "source": [
    "loss_fn.backward()"
   ]
  },
  {
   "cell_type": "code",
   "execution_count": 11,
   "metadata": {},
   "outputs": [
    {
     "data": {
      "text/plain": [
       "2.5288163455860158"
      ]
     },
     "execution_count": 11,
     "metadata": {},
     "output_type": "execute_result"
    }
   ],
   "source": [
    "a.backwards_grad"
   ]
  },
  {
   "cell_type": "markdown",
   "metadata": {},
   "source": [
    "What can we do with this derivative? Taking a gradient step, for instance."
   ]
  },
  {
   "cell_type": "markdown",
   "metadata": {},
   "source": [
    "## The gradient update\n",
    "\n",
    "Based on {eq}`eq:computational-graphs/gradient-descent/gradient-update`, the gradient update method is quite simple to add."
   ]
  },
  {
   "cell_type": "code",
   "execution_count": 12,
   "metadata": {},
   "outputs": [],
   "source": [
    "class Scalar(Scalar):\n",
    "    # ...\n",
    "\n",
    "    def gradient_update(self, lr):\n",
    "        self.value -= lr * self.backwards_grad\n",
    "\n",
    "    # ..."
   ]
  },
  {
   "cell_type": "markdown",
   "metadata": {},
   "source": [
    "Let's put this together and do the full training loop."
   ]
  },
  {
   "cell_type": "code",
   "execution_count": 13,
   "metadata": {},
   "outputs": [],
   "source": [
    "a = Scalar(1)\n",
    "b = Scalar(1)\n",
    "\n",
    "\n",
    "def linear(x):\n",
    "    return a * x + b"
   ]
  },
  {
   "cell_type": "code",
   "execution_count": 14,
   "metadata": {},
   "outputs": [],
   "source": [
    "n_epochs = 100\n",
    "lr = 0.5\n",
    "\n",
    "for _ in range(n_epochs):\n",
    "    ys_pred = [linear(x) for x in xs]\n",
    "    loss_fn = mean_squared_error(ys, ys_pred)\n",
    "\n",
    "    loss_fn.backward()\n",
    "\n",
    "    for p in [a, b]:\n",
    "        p.gradient_update(lr)"
   ]
  },
  {
   "cell_type": "markdown",
   "metadata": {},
   "source": [
    "The parameter `a` should be close to `0.8`, and `b` to `1.2`. Let's check!"
   ]
  },
  {
   "cell_type": "code",
   "execution_count": 15,
   "metadata": {},
   "outputs": [
    {
     "data": {
      "text/plain": [
       "'a = Scalar(0.8256535649132022), b = Scalar(-1.1999984634858334)'"
      ]
     },
     "execution_count": 15,
     "metadata": {},
     "output_type": "execute_result"
    }
   ],
   "source": [
    "f\"a = {a}, b = {b}\""
   ]
  },
  {
   "cell_type": "markdown",
   "metadata": {},
   "source": [
    "The training works!\n",
    "\n",
    "If you are curious, this is how the model looks on the data."
   ]
  },
  {
   "cell_type": "code",
   "execution_count": 16,
   "metadata": {
    "tags": [
     "remove-input"
    ]
   },
   "outputs": [
    {
     "data": {
      "image/png": "[encoded data removed]",
      "text/plain": [
       "<Figure size 800x500 with 1 Axes>"
      ]
     },
     "metadata": {},
     "output_type": "display_data"
    }
   ],
   "source": [
    "with plt.style.context(\"seaborn-v0_8-white\"):\n",
    "    plt.figure(figsize=(8, 5))\n",
    "\n",
    "    xs_plot = [0.01 * k for k in range(101)]\n",
    "    ys_plot = [linear(x).value for x in xs_plot]\n",
    "    plt.plot(xs_plot, ys_plot, c=\"k\")\n",
    "\n",
    "    plt.scatter(xs, ys)\n",
    "    plt.xlabel('x')\n",
    "    plt.ylabel('y')\n",
    "    plt.title('linear regression on our toy dataset')\n",
    "    plt.show()"
   ]
  },
  {
   "cell_type": "markdown",
   "metadata": {},
   "source": [
    "Now, the functionality of `Scalar` is complete."
   ]
  },
  {
   "cell_type": "markdown",
   "metadata": {},
   "source": [
    "## Abstracting the training loop\n",
    "\n",
    "Alright. Is there anything else left to do? My fellow OOP ninjas might have noticed several potential improvements to be made. For instance, take a look at the parameter update loop:\n",
    "\n",
    "```\n",
    "for p in [a, b]:\n",
    "    p.gradient_update(lr)\n",
    "```\n",
    "\n",
    "Manually enumerating the parameters won't work for complex models such as multi-layer neural networks. Moreover, the entire training loop is a piece of reusable code! So, let's wrap things into utility classes!\n",
    "\n",
    "### Models...\n",
    "\n",
    "First, we'll focus on models. Up until this point, we've worked with Python functions like the linear model above:"
   ]
  },
  {
   "cell_type": "code",
   "execution_count": 17,
   "metadata": {},
   "outputs": [],
   "source": [
    "a = Scalar(1)\n",
    "b = Scalar(1)\n",
    "\n",
    "\n",
    "def linear(x):\n",
    "    return a * x + b"
   ]
  },
  {
   "cell_type": "markdown",
   "metadata": {},
   "source": [
    "Let's move all the functionalities into the new `Model` class. We'll use Python's abstract base classes. ({ref}`Check out the official documentation if you are not familiar with them <https://docs.python.org/3/library/abc.html>`.)"
   ]
  },
  {
   "cell_type": "code",
   "execution_count": 18,
   "metadata": {},
   "outputs": [],
   "source": [
    "from abc import ABC, abstractmethod\n",
    "\n",
    "\n",
    "class Model(ABC):\n",
    "    def __call__(self, *args, **kwargs):\n",
    "        return self.forward(*args, **kwargs)\n",
    "\n",
    "    def gradient_update(self, lr):\n",
    "        for _, p in self.parameters().items():\n",
    "            p.gradient_update(lr)\n",
    "\n",
    "    @abstractmethod\n",
    "    def forward(self, *args, **kwargs):\n",
    "        pass\n",
    "\n",
    "    @abstractmethod\n",
    "    def parameters(self):\n",
    "        pass\n",
    "\n",
    "    def load_parameters(self, params):\n",
    "        for key, value in params.items():\n",
    "            setattr(self, key, value)"
   ]
  },
  {
   "cell_type": "markdown",
   "metadata": {},
   "source": [
    "As `Model` is an abstract base class, it is not instantiable; we have to subclass it and override the abstract methods `forward` and `parameters`. For instance, this is how our linear model looks in this framework."
   ]
  },
  {
   "cell_type": "code",
   "execution_count": 19,
   "metadata": {},
   "outputs": [],
   "source": [
    "class Linear(Model):\n",
    "    def __init__(self):\n",
    "        self.a = Scalar(1)\n",
    "        self.b = Scalar(1)\n",
    "\n",
    "    def forward(self, x: Scalar) -> Scalar:\n",
    "        return self.a * x + self.b\n",
    "    \n",
    "    def parameters(self):\n",
    "        return {\"a\": self.a, \"b\": self.b}"
   ]
  },
  {
   "cell_type": "markdown",
   "metadata": {},
   "source": [
    "We did not solve the manual parameter listing problem; we just made it slightly more bearable. The ultimate solution will be introducing the `Tensor` class to replace `Scalar`, but that's way down the line."
   ]
  },
  {
   "cell_type": "code",
   "execution_count": 20,
   "metadata": {},
   "outputs": [],
   "source": [
    "model = Linear()"
   ]
  },
  {
   "cell_type": "code",
   "execution_count": 21,
   "metadata": {},
   "outputs": [
    {
     "data": {
      "text/plain": [
       "Scalar(43)"
      ]
     },
     "execution_count": 21,
     "metadata": {},
     "output_type": "execute_result"
    }
   ],
   "source": [
    "model(42)"
   ]
  },
  {
   "cell_type": "markdown",
   "metadata": {},
   "source": [
    "In case we need to load a model from storage, we can use the `load_parameters` method."
   ]
  },
  {
   "cell_type": "code",
   "execution_count": 22,
   "metadata": {},
   "outputs": [],
   "source": [
    "model.load_parameters({\"a\": Scalar(-1), \"b\": Scalar(-1)})"
   ]
  },
  {
   "cell_type": "code",
   "execution_count": 23,
   "metadata": {},
   "outputs": [
    {
     "data": {
      "text/plain": [
       "'a = Scalar(-1), b = Scalar(-1)'"
      ]
     },
     "execution_count": 23,
     "metadata": {},
     "output_type": "execute_result"
    }
   ],
   "source": [
    "f\"a = {model.a}, b = {model.b}\""
   ]
  },
  {
   "cell_type": "markdown",
   "metadata": {},
   "source": [
    "### ...and optimizers\n",
    "\n",
    "Besides the model-related functionalities, the core training loop of gradient descent can also be abstracted away. Later, when we study advanced optimization techniques (such as stochastic gradient descent or adaptive learning rates), this interface will prove quite useful.\n",
    "\n",
    "Here is `GradientDescent`, packing the training loop into a single class."
   ]
  },
  {
   "cell_type": "code",
   "execution_count": 24,
   "metadata": {},
   "outputs": [],
   "source": [
    "class GradientDescent:\n",
    "    def __init__(self, model, loss_fn):\n",
    "        self.model = model\n",
    "        self.loss_fn = loss_fn\n",
    "\n",
    "    def run(self, xs, ys, lr: float = 0.01, n_steps: int = 1000):\n",
    "        for _ in range(n_steps):\n",
    "            preds = [self.model.forward(x) for x in xs]\n",
    "            l = self.loss_fn(preds, ys)\n",
    "            l.backward()\n",
    "            self.model.gradient_update(lr)"
   ]
  },
  {
   "cell_type": "markdown",
   "metadata": {},
   "source": [
    "Let's try it out!"
   ]
  },
  {
   "cell_type": "code",
   "execution_count": 25,
   "metadata": {},
   "outputs": [],
   "source": [
    "model = Linear()\n",
    "optimizer = GradientDescent(model, mean_squared_error)"
   ]
  },
  {
   "cell_type": "code",
   "execution_count": 26,
   "metadata": {},
   "outputs": [],
   "source": [
    "optimizer.run(xs, ys, lr=0.01, n_steps=1000)"
   ]
  },
  {
   "cell_type": "markdown",
   "metadata": {},
   "source": [
    "Let's make the very same plot we made a few cells above to see if it worked."
   ]
  },
  {
   "cell_type": "code",
   "execution_count": 27,
   "metadata": {
    "tags": [
     "remove-input"
    ]
   },
   "outputs": [
    {
     "data": {
      "image/png": "[encoded data removed]",
      "text/plain": [
       "<Figure size 800x500 with 1 Axes>"
      ]
     },
     "metadata": {},
     "output_type": "display_data"
    }
   ],
   "source": [
    "with plt.style.context(\"seaborn-v0_8-white\"):\n",
    "    plt.figure(figsize=(8, 5))\n",
    "\n",
    "    xs_plot = [0.01 * k for k in range(101)]\n",
    "    ys_plot = [model(x).value for x in xs_plot]\n",
    "    plt.plot(xs_plot, ys_plot, c=\"k\")\n",
    "\n",
    "    plt.scatter(xs, ys)\n",
    "    plt.xlabel('x')\n",
    "    plt.ylabel('y')\n",
    "    plt.title('linear regression on our toy dataset')\n",
    "    plt.show()"
   ]
  },
  {
   "cell_type": "code",
   "execution_count": null,
   "metadata": {},
   "outputs": [],
   "source": []
  }
 ],
 "metadata": {
  "kernelspec": {
   "display_name": "mlfz",
   "language": "python",
   "name": "python3"
  },
  "language_info": {
   "codemirror_mode": {
    "name": "ipython",
    "version": 3
   },
   "file_extension": ".py",
   "mimetype": "text/x-python",
   "name": "python",
   "nbconvert_exporter": "python",
   "pygments_lexer": "ipython3",
   "version": "3.12.3"
  }
 },
 "nbformat": 4,
 "nbformat_minor": 2
}
