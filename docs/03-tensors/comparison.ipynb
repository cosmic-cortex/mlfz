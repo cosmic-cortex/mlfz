{
 "cells": [
  {
   "cell_type": "markdown",
   "metadata": {},
   "source": [
    "# `Tensor` vs `Scalar` performance comparison\n",
    "\n",
    "Before moving on to the implementation details, let's quickly compare the performance of `Scalar` vs. `Tensor`. To do that, we'll use a simple one-layer neural network with thirty-two hidden neurons.\n",
    "\n",
    "We'll store the number of hidden neurons inside a variable so you can play around with it if you execute this notebook locally. "
   ]
  },
  {
   "cell_type": "code",
   "execution_count": 1,
   "metadata": {},
   "outputs": [],
   "source": [
    "n_hidden_neurons = 32"
   ]
  },
  {
   "cell_type": "markdown",
   "metadata": {},
   "source": [
    "First, here's the data. Feel free to skip the code, it's nothing we haven't seen before."
   ]
  },
  {
   "cell_type": "code",
   "execution_count": 2,
   "metadata": {},
   "outputs": [],
   "source": [
    "import numpy as np\n",
    "from mlfz.nn.scalar import Scalar\n",
    "from mlfz.nn.tensor import Tensor\n",
    "\n",
    "n_samples = 1000\n",
    "\n",
    "xs_scalar = [[Scalar.from_random(), Scalar.from_random()] for _ in range(n_samples)]\n",
    "ys_scalar = [Scalar.from_random() for _ in range(n_samples)]\n",
    "\n",
    "xs_tensor = Tensor(np.array([[x1.value, x2.value] for x1, x2 in xs_scalar]))\n",
    "ys_tensor = Tensor(np.array([y.value for y in ys_scalar]).reshape(-1, 1))"
   ]
  },
  {
   "cell_type": "markdown",
   "metadata": {},
   "source": [
    "Our `Scalar` network takes quite a while to set up. Here we go:"
   ]
  },
  {
   "cell_type": "code",
   "execution_count": 3,
   "metadata": {},
   "outputs": [],
   "source": [
    "from mlfz import Model\n",
    "from mlfz.nn.scalar import functional as f_scalar\n",
    "from itertools import product\n",
    "\n",
    "\n",
    "class ScalarNetwork(Model):\n",
    "    def __init__(self):\n",
    "        self.A = [[Scalar.from_random() for j in range(n_hidden_neurons)]\n",
    "                  for i in range (2)]\n",
    "        self.B = [Scalar.from_random() for i in range(n_hidden_neurons)]\n",
    "    \n",
    "    def forward(self, x):\n",
    "        fs = [sum([self.A[i][j] * x[i] for i in range(2)]) for j in range(n_hidden_neurons)]\n",
    "        fs_relu = [f_scalar.tanh(f) for f in fs]\n",
    "        gs = sum([self.B[i] * fs_relu[i] for i in range(n_hidden_neurons)])\n",
    "        return f_scalar.sigmoid(gs)\n",
    "\n",
    "    def parameters(self):\n",
    "        A_dict = {f\"a{i}{j}\": self.A[i][j] for i, j in product(range(2), range(n_hidden_neurons))}\n",
    "        B_dict = {f\"b{i}\": self.B[i] for i in range(n_hidden_neurons)}\n",
    "        return {**A_dict, **B_dict}"
   ]
  },
  {
   "cell_type": "markdown",
   "metadata": {},
   "source": [
    "To accurately measure the time of a single gradient step, we encapsulate all the logic into a single function called `scalar_network_step`. "
   ]
  },
  {
   "cell_type": "code",
   "execution_count": 4,
   "metadata": {},
   "outputs": [],
   "source": [
    "from mlfz.nn.scalar.loss import binary_cross_entropy as bce_scalar\n",
    "\n",
    "\n",
    "scalar_net = ScalarNetwork()\n",
    "\n",
    "\n",
    "def scalar_network_step():\n",
    "    preds = [scalar_net(x) for x in xs_scalar]\n",
    "    l = bce_scalar(preds, ys_scalar)\n",
    "    l.backward()\n",
    "    scalar_net.gradient_update(0.01)\n",
    "    "
   ]
  },
  {
   "cell_type": "markdown",
   "metadata": {},
   "source": [
    "Let's go and %timeit!"
   ]
  },
  {
   "cell_type": "code",
   "execution_count": 5,
   "metadata": {},
   "outputs": [
    {
     "name": "stdout",
     "output_type": "stream",
     "text": [
      "317 ms ± 6.9 ms per loop (mean ± std. dev. of 7 runs, 1 loop each)\n"
     ]
    }
   ],
   "source": [
    "%timeit scalar_network_step()"
   ]
  },
  {
   "cell_type": "markdown",
   "metadata": {},
   "source": [
    "Now, about the `Tensor` network."
   ]
  },
  {
   "cell_type": "code",
   "execution_count": 6,
   "metadata": {},
   "outputs": [],
   "source": [
    "from mlfz.nn.tensor import functional as f_tensor\n",
    "\n",
    "\n",
    "class TensorNetwork(Model):\n",
    "    def __init__(self):\n",
    "        self.A = Tensor.from_random(2, n_hidden_neurons)\n",
    "        self.B = Tensor.from_random(n_hidden_neurons, 1)\n",
    "\n",
    "    def forward(self, x):\n",
    "        return f_tensor.sigmoid(f_tensor.tanh(x @ self.A) @ self.B)\n",
    "    \n",
    "    def parameters(self):\n",
    "        return {\"A\": self.A, \"B\": self.B}"
   ]
  },
  {
   "cell_type": "markdown",
   "metadata": {},
   "source": [
    "Look at that simplicity! Vectorization is worth it for that alone, but wait until we see how fast it is."
   ]
  },
  {
   "cell_type": "code",
   "execution_count": 7,
   "metadata": {},
   "outputs": [],
   "source": [
    "from mlfz.nn.tensor.loss import binary_cross_entropy as bce_tensor\n",
    "\n",
    "\n",
    "tensor_net = TensorNetwork()\n",
    "\n",
    "\n",
    "def tensor_network_step():\n",
    "    preds = tensor_net(xs_tensor)\n",
    "    l = bce_tensor(preds, ys_tensor)\n",
    "    l.backward()\n",
    "    tensor_net.gradient_update(0.01)"
   ]
  },
  {
   "cell_type": "code",
   "execution_count": 8,
   "metadata": {},
   "outputs": [
    {
     "name": "stdout",
     "output_type": "stream",
     "text": [
      "3.46 ms ± 251 μs per loop (mean ± std. dev. of 7 runs, 100 loops each)\n"
     ]
    }
   ],
   "source": [
    "%timeit tensor_network_step()"
   ]
  },
  {
   "cell_type": "markdown",
   "metadata": {},
   "source": [
    "The actual performance depends on the server this notebook is built on, but you should see a roughly 100x speedup, given by the magic of vectorization. If you are running this notebook locally, try changing the `n_hidden_neurons` variable in the first executable cell in this notebook. You'll be surprised: the execution time of the `Scalar` version will rapidly increase, but the `Tensor` version will roughly stay the same!\n",
    "\n",
    "That's because the graph structure adds a heavy overhead to our computations. We'll profile the code in a later version of the notebook, but this is because the actual computations like addition, multiplication, etc, are only a small portion of the training!"
   ]
  },
  {
   "cell_type": "markdown",
   "metadata": {},
   "source": [
    "## Coming soon\n",
    "\n",
    "In the later chapters of this documentation, we'll detail how `Tensor` is implemented."
   ]
  },
  {
   "cell_type": "markdown",
   "metadata": {},
   "source": []
  }
 ],
 "metadata": {
  "kernelspec": {
   "display_name": "mlfz",
   "language": "python",
   "name": "python3"
  },
  "language_info": {
   "codemirror_mode": {
    "name": "ipython",
    "version": 3
   },
   "file_extension": ".py",
   "mimetype": "text/x-python",
   "name": "python",
   "nbconvert_exporter": "python",
   "pygments_lexer": "ipython3",
   "version": "3.10.12"
  }
 },
 "nbformat": 4,
 "nbformat_minor": 2
}
