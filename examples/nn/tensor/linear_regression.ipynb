{
 "cells": [
  {
   "cell_type": "markdown",
   "metadata": {},
   "source": [
    "# Linear regression"
   ]
  },
  {
   "cell_type": "code",
   "execution_count": 1,
   "metadata": {},
   "outputs": [],
   "source": [
    "import numpy as np\n",
    "from mlfz.nn import Model\n",
    "from mlfz.nn.tensor import Tensor\n",
    "from mlfz.nn.tensor.functional import log, sigmoid"
   ]
  },
  {
   "cell_type": "code",
   "execution_count": 9,
   "metadata": {},
   "outputs": [],
   "source": [
    "x = Tensor(np.array([[1, 2], [3, 4], [5, 6]]))\n",
    "\n",
    "# scalar case\n",
    "y1 = x ** 2\n",
    "y2 = Tensor(2) ** x\n",
    "\n",
    "# tensor case\n",
    "t_1d_col = Tensor(np.array([[1], [2], [3]]))\n",
    "t_1d_row = Tensor(np.array([1, 2]))\n",
    "t_2d = Tensor(np.array([[1, 2], [3, 4], [5, 6]]))\n",
    "y2 = x**t_1d_col\n",
    "y3 = x**t_1d_row\n",
    "y4 = x**t_2d"
   ]
  },
  {
   "cell_type": "code",
   "execution_count": 12,
   "metadata": {},
   "outputs": [
    {
     "data": {
      "text/plain": [
       "Tensor([[ 2,  4],\n",
       "       [ 8, 16],\n",
       "       [32, 64]])"
      ]
     },
     "execution_count": 12,
     "metadata": {},
     "output_type": "execute_result"
    }
   ],
   "source": [
    "Tensor(2) ** x"
   ]
  },
  {
   "cell_type": "code",
   "execution_count": 2,
   "metadata": {},
   "outputs": [],
   "source": [
    "class LinearRegression:\n",
    "    def __init__(self):\n",
    "        self.A = Tensor.from_random(2, 1)\n",
    "        self.b = Tensor.from_random(1)\n",
    "\n",
    "    def forward(self, x):\n",
    "        return x @ self.A + self.b\n",
    "    \n",
    "    def parameters(self):\n",
    "        return {\"A\": self.A, \"b\": self.b}\n"
   ]
  },
  {
   "cell_type": "code",
   "execution_count": 10,
   "metadata": {},
   "outputs": [],
   "source": [
    "model = LinearRegression()\n",
    "\n",
    "x = Tensor.from_random(10, 2)   # data\n",
    "y_gt = Tensor.from_random(10, 1)   # ground truth\n",
    "y = model.forward(x)"
   ]
  },
  {
   "cell_type": "code",
   "execution_count": 16,
   "metadata": {},
   "outputs": [
    {
     "data": {
      "text/plain": [
       "Tensor([[0.2, 0.2, 0.2],\n",
       "       [0.2, 0.2, 0.2],\n",
       "       [0.2, 0.2, 0.2],\n",
       "       [0.2, 0.2, 0.2],\n",
       "       [0.2, 0.2, 0.2]])"
      ]
     },
     "execution_count": 16,
     "metadata": {},
     "output_type": "execute_result"
    }
   ],
   "source": [
    "Tensor.ones(5, 3) / 0.2"
   ]
  },
  {
   "cell_type": "code",
   "execution_count": 7,
   "metadata": {},
   "outputs": [
    {
     "data": {
      "text/plain": [
       "Tensor([[4., 4., 4., 4., 4., 4., 4., 4., 4., 4.]])"
      ]
     },
     "execution_count": 7,
     "metadata": {},
     "output_type": "execute_result"
    }
   ],
   "source": [
    "(2 * Tensor.ones(1, 10)) ** 2"
   ]
  },
  {
   "cell_type": "code",
   "execution_count": null,
   "metadata": {},
   "outputs": [],
   "source": []
  }
 ],
 "metadata": {
  "kernelspec": {
   "display_name": "mlfz",
   "language": "python",
   "name": "python3"
  },
  "language_info": {
   "codemirror_mode": {
    "name": "ipython",
    "version": 3
   },
   "file_extension": ".py",
   "mimetype": "text/x-python",
   "name": "python",
   "nbconvert_exporter": "python",
   "pygments_lexer": "ipython3",
   "version": "3.10.12"
  }
 },
 "nbformat": 4,
 "nbformat_minor": 2
}
